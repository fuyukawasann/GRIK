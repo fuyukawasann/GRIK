{
 "cells": [
  {
   "cell_type": "code",
   "execution_count": 1,
   "metadata": {},
   "outputs": [
    {
     "data": {
      "text/plain": [
       "True"
      ]
     },
     "execution_count": 1,
     "metadata": {},
     "output_type": "execute_result"
    }
   ],
   "source": [
    "import cv2\n",
    "import numpy as np\n",
    "\n",
    "# 이미지를 불러옵니다.\n",
    "dir1 = input(\"Enter the directory of the original image: \")\n",
    "dir2 = input(\"Enter the directory of the handwritten image: \")\n",
    "original_image = cv2.imread(dir1, cv2.IMREAD_GRAYSCALE)\n",
    "handwritten_image = cv2.imread(dir2, cv2.IMREAD_GRAYSCALE)\n",
    "\n",
    "# 이미지를 1차원 수열로 변환합니다.\n",
    "original_array = np.array(original_image).flatten()\n",
    "handwritten_array = np.array(handwritten_image).flatten()\n",
    "\n",
    "# 두 수열을 뺍니다.\n",
    "difference = handwritten_array - original_array\n",
    "\n",
    "# 뺄셈 결과를 다시 이미지 형태로 변환합니다.\n",
    "difference_image = difference.reshape(original_image.shape)\n",
    "\n",
    "# 결과 이미지를 저장합니다.\n",
    "cv2.imwrite('difference_image.png', difference_image)"
   ]
  }
 ],
 "metadata": {
  "kernelspec": {
   "display_name": ".venv",
   "language": "python",
   "name": "python3"
  },
  "language_info": {
   "codemirror_mode": {
    "name": "ipython",
    "version": 3
   },
   "file_extension": ".py",
   "mimetype": "text/x-python",
   "name": "python",
   "nbconvert_exporter": "python",
   "pygments_lexer": "ipython3",
   "version": "3.11.9"
  }
 },
 "nbformat": 4,
 "nbformat_minor": 2
}
