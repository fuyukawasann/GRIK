{
 "cells": [
  {
   "cell_type": "markdown",
   "metadata": {},
   "source": [
    "# GRIK Test(Renewal)"
   ]
  },
  {
   "cell_type": "markdown",
   "metadata": {},
   "source": [
    "## 1. Import"
   ]
  },
  {
   "cell_type": "code",
   "execution_count": 7,
   "metadata": {},
   "outputs": [],
   "source": [
    "## 설치 안된 Dependency를 처리하기 위해\n",
    "import sys\n",
    "import subprocess"
   ]
  },
  {
   "cell_type": "code",
   "execution_count": 8,
   "metadata": {},
   "outputs": [],
   "source": [
    "## 파이썬 기본 라이브러리\n",
    "import os\n",
    "from PIL import Image\n",
    "from datetime import datetime\n",
    "import shutil\n",
    "\n",
    "## 라이브러리가 없으면 설치를 시도하고 이미 설치되어 있으면 import만 한다.\n",
    "try:\n",
    "\timport cv2\n",
    "except:\n",
    "    # pip 모듈 업그레이드\n",
    "    subprocess.check_call([sys.executable,'-m', 'pip', 'install', '--upgrade', 'pip'])\n",
    "    # 에러 발생한 모듈 설치\n",
    "    subprocess.check_call([sys.executable,'-m', 'pip', 'install', '--upgrade', 'opencv-python'])\n",
    "    import cv2\n",
    "\n",
    "try:\n",
    "    from skimage.metrics import structural_similarity as ssim\n",
    "except:\n",
    "    # 에러 발생한 모듈 설치\n",
    "    subprocess.check_call([sys.executable,'-m', 'pip', 'install', '--upgrade', 'scikit-image'])\n",
    "    from skimage.metrics import structural_similarity as ssim"
   ]
  },
  {
   "cell_type": "markdown",
   "metadata": {},
   "source": [
    "## 2. 비디오 인식"
   ]
  },
  {
   "cell_type": "code",
   "execution_count": 9,
   "metadata": {},
   "outputs": [],
   "source": [
    "## 비디오 경로\n",
    "video_Path = input(\"비디오 경로를 입력하세요: \")\n",
    "\n",
    "## opencv 비디오 인식\n",
    "video = cv2.VideoCapture(video_Path)\n",
    "\n",
    "## 비디오가 없을 때\n",
    "if not video.isOpened():\n",
    "    print(f'Cannot open the video: {video_Path}')"
   ]
  },
  {
   "cell_type": "code",
   "execution_count": 10,
   "metadata": {},
   "outputs": [],
   "source": [
    "## 비디오 정보\n",
    "length = int(video.get(cv2.CAP_PROP_FRAME_COUNT))\n",
    "width = int(video.get(cv2.CAP_PROP_FRAME_WIDTH))\n",
    "height = int(video.get(cv2.CAP_PROP_FRAME_HEIGHT))\n",
    "fps = round(video.get(cv2.CAP_PROP_FPS))\n",
    "\n",
    "## 디렉토리 생성\n",
    "save_NAME = input(\"저장할 이름을 입력해주세요: \")\n",
    "save_DIR = f'./result/{save_NAME}'\n",
    "try:\n",
    "    if not os.path.exists(save_DIR):\n",
    "        os.makedirs(save_DIR)\n",
    "except OSError:\n",
    "    print(f'Error: Cannot Find SAVE_PATH: {save_DIR}')"
   ]
  },
  {
   "cell_type": "markdown",
   "metadata": {},
   "source": [
    "## SSIM"
   ]
  },
  {
   "cell_type": "code",
   "execution_count": 11,
   "metadata": {},
   "outputs": [
    {
     "name": "stdout",
     "output_type": "stream",
     "text": [
      "#0 Frame Saved!!\n",
      "#60 Frame Saved!!\n",
      "#61 Frame Saved!!\n",
      "#265 Frame Saved!!\n",
      "#266 Frame Saved!!\n",
      "#745 Frame Saved!!\n",
      "#746 Frame Saved!!\n",
      "#1446 Frame Saved!!\n",
      "#1447 Frame Saved!!\n",
      "#1783 Frame Saved!!\n",
      "#1784 Frame Saved!!\n",
      "#3254 Frame Saved!!\n",
      "#3255 Frame Saved!!\n",
      "#3621 Frame Saved!!\n",
      "#3622 Frame Saved!!\n"
     ]
    }
   ],
   "source": [
    "## Define Frame Counter\n",
    "frameCounter = 0\n",
    "\n",
    "## Define SSIM pre-processor\n",
    "def SSIMProcessor(first, second, thisTurn):\n",
    "    ## Filtered Gray Scale\n",
    "    grayA = cv2.cvtColor(first, cv2.COLOR_BGR2GRAY)\n",
    "    grayB = cv2.cvtColor(second, cv2.COLOR_BGR2GRAY)\n",
    "\n",
    "    ## Saving Score\n",
    "    (score, diff) = ssim(grayA, grayB, full=True)\n",
    "    diff = (diff * 225).astype(\"uint8\")\n",
    "\n",
    "    ## If Score is larger than 0.87, then delete Primary\n",
    "    if thisTurn == 1:\n",
    "        cv2.imwrite(f'{save_DIR}/frame{thisTurn - 1}.jpg', first)\n",
    "        print(f'#{thisTurn - 1} Frame Saved!!')\n",
    "    if score < 0.8:\n",
    "        cv2.imwrite(f'{save_DIR}/frame{thisTurn - 1}.jpg', first)\n",
    "        print(f'#{thisTurn - 1} Frame Saved!!')\n",
    "        cv2.imwrite(f'{save_DIR}/frame{thisTurn}.jpg', second)\n",
    "        print(f'#{thisTurn} Frame Saved!!')\n",
    "\n",
    "\n",
    "## Video Pre-processing\n",
    "while(video.isOpened()):\n",
    "    ret, image = video.read()\n",
    "    if (int(video.get(1)) % fps == 0):\n",
    "        if (frameCounter == 0):\n",
    "            Primary = image\n",
    "        else :\n",
    "            Secondary = image\n",
    "            SSIMProcessor(Primary, Secondary, frameCounter)\n",
    "            Primary = Secondary\n",
    "        frameCounter += 1\n",
    "    if int(video.get(1)) == length:\n",
    "        cv2.imwrite(f'{save_DIR}/frame{frameCounter}.jpg', image)\n",
    "        break\n",
    "\n",
    "video.release()\n",
    "\n",
    "## Remove Video\n",
    "#os.remove(video_Path)\n",
    "#print(\"Eliminate Video!!\")"
   ]
  }
 ],
 "metadata": {
  "kernelspec": {
   "display_name": ".venv",
   "language": "python",
   "name": "python3"
  },
  "language_info": {
   "codemirror_mode": {
    "name": "ipython",
    "version": 3
   },
   "file_extension": ".py",
   "mimetype": "text/x-python",
   "name": "python",
   "nbconvert_exporter": "python",
   "pygments_lexer": "ipython3",
   "version": "3.11.9"
  }
 },
 "nbformat": 4,
 "nbformat_minor": 2
}
