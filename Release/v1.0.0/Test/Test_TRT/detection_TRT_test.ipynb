{
 "cells": [
  {
   "cell_type": "code",
   "execution_count": 1,
   "id": "64c1ac72-b32d-4d15-be09-21970f3cda0a",
   "metadata": {},
   "outputs": [
    {
     "ename": "ModuleNotFoundError",
     "evalue": "No module named 'tensorrt'",
     "output_type": "error",
     "traceback": [
      "\u001b[0;31m---------------------------------------------------------------------------\u001b[0m",
      "\u001b[0;31mModuleNotFoundError\u001b[0m                       Traceback (most recent call last)",
      "Cell \u001b[0;32mIn[1], line 7\u001b[0m\n\u001b[1;32m      5\u001b[0m \u001b[38;5;28;01mimport\u001b[39;00m \u001b[38;5;21;01mtime\u001b[39;00m\n\u001b[1;32m      6\u001b[0m \u001b[38;5;28;01mimport\u001b[39;00m \u001b[38;5;21;01mnumpy\u001b[39;00m \u001b[38;5;28;01mas\u001b[39;00m \u001b[38;5;21;01mnp\u001b[39;00m\n\u001b[0;32m----> 7\u001b[0m \u001b[38;5;28;01mimport\u001b[39;00m \u001b[38;5;21;01mtensorrt\u001b[39;00m \u001b[38;5;28;01mas\u001b[39;00m \u001b[38;5;21;01mtrt\u001b[39;00m\n\u001b[1;32m      8\u001b[0m \u001b[38;5;28;01mfrom\u001b[39;00m \u001b[38;5;21;01mcollections\u001b[39;00m \u001b[38;5;28;01mimport\u001b[39;00m OrderedDict, namedtuple\n",
      "\u001b[0;31mModuleNotFoundError\u001b[0m: No module named 'tensorrt'"
     ]
    }
   ],
   "source": [
    "## TEST TRT\n",
    "import cv2\n",
    "import torch\n",
    "import random\n",
    "import time\n",
    "import numpy as np\n",
    "import tensorrt as trt\n",
    "from collections import OrderedDict, namedtuple"
   ]
  },
  {
   "cell_type": "code",
   "execution_count": 2,
   "id": "e8dc13e8-d937-4b46-bbe3-b6f31721e4ea",
   "metadata": {},
   "outputs": [],
   "source": [
    "engine = '../Weights/best_tiny_400_16.trt'\n",
    "device = torch.device('cuda:0')\n",
    "img = cv2.imread('../test05.jpg')"
   ]
  },
  {
   "cell_type": "code",
   "execution_count": 3,
   "id": "6811229f-6861-454b-936d-68ff72e508f9",
   "metadata": {},
   "outputs": [
    {
     "data": {
      "text/plain": [
       "True"
      ]
     },
     "execution_count": 3,
     "metadata": {},
     "output_type": "execute_result"
    }
   ],
   "source": [
    "logger = trt.Logger(trt.Logger.INFO)\n",
    "trt.init_libnvinfer_plugins(logger, namespace=\"\")"
   ]
  },
  {
   "cell_type": "code",
   "execution_count": 4,
   "id": "260a9b2c-a054-43e4-8657-999a2fc1f7e1",
   "metadata": {},
   "outputs": [],
   "source": [
    "with open(engine, 'rb') as f:\n",
    "    serialized_engine = f.read()"
   ]
  },
  {
   "cell_type": "code",
   "execution_count": 6,
   "id": "d81b6081-ef65-41a9-97b5-6cf4c3aac0bb",
   "metadata": {},
   "outputs": [],
   "source": [
    "runtime = trt.Runtime(logger)"
   ]
  },
  {
   "cell_type": "code",
   "execution_count": 8,
   "id": "eea68db8-9682-4da3-9dd3-0513eea24f83",
   "metadata": {},
   "outputs": [],
   "source": [
    "model = runtime.deserialize_cuda_engine(serialized_engine)"
   ]
  },
  {
   "cell_type": "code",
   "execution_count": 9,
   "id": "33e1a728-4040-4a58-b73e-8417f60ee04b",
   "metadata": {},
   "outputs": [],
   "source": [
    "context = model.create_execution_context()"
   ]
  },
  {
   "cell_type": "code",
   "execution_count": 10,
   "id": "03ff4bc3-d52a-4b2b-96c1-12df5bd0f176",
   "metadata": {},
   "outputs": [],
   "source": [
    "names = ['panseo']"
   ]
  },
  {
   "cell_type": "code",
   "execution_count": 11,
   "id": "2d760121-3645-4fb6-9b99-37eda5c620d4",
   "metadata": {},
   "outputs": [],
   "source": [
    "inputs, outputs, allocations = [], [], []"
   ]
  },
  {
   "cell_type": "code",
   "execution_count": null,
   "id": "c62028fc-b8f7-4b3f-9b72-49ce0cb0d716",
   "metadata": {},
   "outputs": [],
   "source": [
    "for i in range(model.num_bindings):\n",
    "    is_input = False\n",
    "    if engine.binding_is_input(i):\n",
    "        is_input = True\n",
    "    name = engine.get_binding_name(i)\n",
    "    dtype = np.dtype(trt.nptype(engine.get_binding_dtype(i)))\n",
    "    shape = context.get_binding_shape(i)\n",
    "    \n",
    "    if is_input and shape[0] < 0:\n",
    "        assert engine.num_optimization_profiles > 0\n",
    "        profile_shape = engine.get_profile_shape(0, name)"
   ]
  }
 ],
 "metadata": {
  "kernelspec": {
   "display_name": "Python 3",
   "language": "python",
   "name": "python3"
  },
  "language_info": {
   "codemirror_mode": {
    "name": "ipython",
    "version": 3
   },
   "file_extension": ".py",
   "mimetype": "text/x-python",
   "name": "python",
   "nbconvert_exporter": "python",
   "pygments_lexer": "ipython3",
   "version": "3.11.9"
  }
 },
 "nbformat": 4,
 "nbformat_minor": 5
}
