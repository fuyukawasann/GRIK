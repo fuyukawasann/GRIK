{
 "cells": [
  {
   "cell_type": "markdown",
   "metadata": {},
   "source": [
    "# TORCH2ONNX"
   ]
  },
  {
   "cell_type": "markdown",
   "metadata": {},
   "source": [
    "## 0. Installation"
   ]
  },
  {
   "cell_type": "code",
   "execution_count": null,
   "metadata": {},
   "outputs": [],
   "source": [
    "import os\n",
    "os.system(\"pip install --upgrade setuptools pip --user\")\n",
    "os.system(\"pip install --ignore-installed PyYAML\")\n",
    "os.system(\"pip install Pillow\")\n",
    "os.system(\"pip install nvidia-pyindex\")\n",
    "os.system(\"pip install pycuda\")\n",
    "os.system(\"pip install protobuf<4.21.3\")\n",
    "os.system(\"pip install onnxruntime-gpu\")\n",
    "os.system(\"pip install onnx>=1.9.0\")\n",
    "os.system(\"pip install onnx-simplifier>=0.3.6 --user\")"
   ]
  },
  {
   "cell_type": "markdown",
   "metadata": {},
   "source": [
    "## 1. Import and Check Dependencies"
   ]
  },
  {
   "cell_type": "code",
   "execution_count": null,
   "metadata": {},
   "outputs": [],
   "source": [
    "import sys\n",
    "import torch\n",
    "print(f\"Python version: {sys.version}, {sys.version_info}\")\n",
    "print(f\"PyTorch version: {torch.__version__}\")"
   ]
  },
  {
   "cell_type": "markdown",
   "metadata": {},
   "source": [
    "## 2. Download YOLOv7 and valid weight file"
   ]
  },
  {
   "cell_type": "code",
   "execution_count": null,
   "metadata": {},
   "outputs": [],
   "source": [
    "os.system(\"git clone https://github.com/WongKinYiu/yolov7\")\n",
    "os.chdir(\"yolov7\")\n",
    "os.listdir(os.getcwd())"
   ]
  },
  {
   "cell_type": "code",
   "execution_count": null,
   "metadata": {},
   "outputs": [],
   "source": [
    "os.system(\"cp ../../Weights/best_tiny_400_16.pt .\")\n",
    "os.system(\"python detect.py --weights ./best_tiny_400_16.pt --conf 0.25 --img-size 640 --source ../../test05.jpg\")"
   ]
  },
  {
   "cell_type": "code",
   "execution_count": null,
   "metadata": {},
   "outputs": [],
   "source": [
    "from PIL import Image\n",
    "Image.open(\"runs/detect/exp/test05.jpg\")"
   ]
  },
  {
   "cell_type": "markdown",
   "metadata": {},
   "source": [
    "## 3. Export ONNX model"
   ]
  },
  {
   "cell_type": "code",
   "execution_count": null,
   "metadata": {},
   "outputs": [],
   "source": [
    "os.system(\"!python export.py --weights ./best_tiny_400_16.pt --grid --end2end --simplify --topk-all 100 --iou-thres 0.65 --conf-thres 0.35 --img-size 640 640\")\n",
    "os.listdir(os.getcwd())"
   ]
  },
  {
   "cell_type": "markdown",
   "metadata": {},
   "source": [
    "## 4. Save ONNX File at Weight Folder"
   ]
  },
  {
   "cell_type": "code",
   "execution_count": null,
   "metadata": {},
   "outputs": [],
   "source": [
    "os.system(\"cp ./best_tiny_400_16.onnx ../../Weights\")\n",
    "os.listdir(\"../../Weights\")"
   ]
  }
 ],
 "metadata": {
  "language_info": {
   "name": "python"
  }
 },
 "nbformat": 4,
 "nbformat_minor": 2
}
