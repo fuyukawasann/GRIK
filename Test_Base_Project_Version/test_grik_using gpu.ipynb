{
 "cells": [
  {
   "cell_type": "markdown",
   "metadata": {},
   "source": [
    "# GRIK TEST(GPU ver.)\n",
    "\n",
    "## 1. Import"
   ]
  },
  {
   "cell_type": "code",
   "execution_count": 1,
   "metadata": {},
   "outputs": [],
   "source": [
    "## For Dependency\n",
    "import sys\n",
    "import subprocess"
   ]
  },
  {
   "cell_type": "code",
   "execution_count": 2,
   "metadata": {},
   "outputs": [
    {
     "name": "stderr",
     "output_type": "stream",
     "text": [
      "c:\\Users\\wmp91\\AppData\\Local\\Programs\\Python\\Python311\\Lib\\site-packages\\pyopencl\\cache.py:417: CompilerWarning: Non-empty compiler output encountered. Set the environment variable PYOPENCL_COMPILER_OUTPUT=1 to see more.\n",
      "  prg.build(options_bytes, [devices[i] for i in to_be_built_indices])\n"
     ]
    }
   ],
   "source": [
    "## 파이썬 기본 라이브러리\n",
    "import os\n",
    "from datetime import datetime\n",
    "import shutil\n",
    "\n",
    "## 라이브러리가 없으면 설치를 시도하고 이미 설치되어 있으면 import만 한다.\n",
    "try:\n",
    "    from PIL import Image\n",
    "except:\n",
    "    subprocess.check_call([sys.executable,'-m', 'pip', 'install', '--upgrade', 'pip'])\n",
    "    # 에러 발생한 모듈 설치\n",
    "    subprocess.check_call([sys.executable,'-m', 'pip', 'install', '--upgrade', 'pillow'])\n",
    "    from PIL import Image\n",
    "\n",
    "try:\n",
    "    import numpy as np\n",
    "except:\n",
    "    subprocess.check_call([sys.executable,'-m', 'pip', 'install', '--upgrade', 'numpy'])\n",
    "    import numpy as np\n",
    "    \n",
    "\n",
    "try:\n",
    "    import torch\n",
    "except:\n",
    "    # 에러 발생한 모듈 설치\n",
    "    subprocess.check_call([sys.executable,'-m', 'pip', 'install', '--upgrade', 'torch'])\n",
    "    import torch\n",
    "    \n",
    "try:\n",
    "\timport cv2\n",
    "except:\n",
    "    # pip 모듈 업그레이드\n",
    "    subprocess.check_call([sys.executable,'-m', 'pip', 'install', '--upgrade', 'pip'])\n",
    "    # 에러 발생한 모듈 설치\n",
    "    subprocess.check_call([sys.executable,'-m', 'pip', 'install', '--upgrade', 'opencv-python'])\n",
    "    import cv2\n",
    "\n",
    "try:\n",
    "    from skimage.metrics import structural_similarity as ssim\n",
    "except:\n",
    "    # 에러 발생한 모듈 설치\n",
    "    subprocess.check_call([sys.executable,'-m', 'pip', 'install', '--upgrade', 'scikit-image'])\n",
    "    from skimage.metrics import structural_similarity as ssim\n",
    "\n",
    "try:\n",
    "\tfrom SSIM_PIL import compare_ssim\n",
    "except:\n",
    "\t# 모듈 설치 후 import\n",
    "\tsubprocess.check_call([sys.executable,'-m', 'pip', 'install', '--upgrade', 'SSIM-PIL'])\n",
    "\tfrom SSIM_PIL import compare_ssim"
   ]
  },
  {
   "cell_type": "markdown",
   "metadata": {},
   "source": [
    "## 2. 비디오 인식"
   ]
  },
  {
   "cell_type": "code",
   "execution_count": 3,
   "metadata": {},
   "outputs": [],
   "source": [
    "## 비디오 경로\n",
    "video_Path = input(\"비디오 경로를 입력하세요: \")\n",
    "\n",
    "## opencv 비디오 인식\n",
    "video = cv2.VideoCapture(video_Path)\n",
    "\n",
    "## 비디오가 없을 때\n",
    "if not video.isOpened():\n",
    "    print(f'Cannot open the video: {video_Path}')\n",
    "    exit(0)"
   ]
  },
  {
   "cell_type": "code",
   "execution_count": 4,
   "metadata": {},
   "outputs": [],
   "source": [
    "## 비디오 정보\n",
    "length = int(video.get(cv2.CAP_PROP_FRAME_COUNT))\n",
    "width = int(video.get(cv2.CAP_PROP_FRAME_WIDTH))\n",
    "height = int(video.get(cv2.CAP_PROP_FRAME_HEIGHT))\n",
    "fps = round(video.get(cv2.CAP_PROP_FPS))\n",
    "\n",
    "## 디렉토리 생성\n",
    "save_NAME = input(\"저장할 이름을 입력해주세요: \")\n",
    "save_DIR = f'./result/{save_NAME}'\n",
    "try:\n",
    "    if not os.path.exists(save_DIR):\n",
    "        os.makedirs(save_DIR)\n",
    "except OSError:\n",
    "    print(f'Error: Cannot Find SAVE_PATH: {save_DIR}')"
   ]
  },
  {
   "cell_type": "markdown",
   "metadata": {},
   "source": [
    "## 3. 비디오 처리 및 기능 구현"
   ]
  },
  {
   "cell_type": "code",
   "execution_count": 5,
   "metadata": {},
   "outputs": [
    {
     "name": "stdout",
     "output_type": "stream",
     "text": [
      "#27 Frame Saved!!\n",
      "#28 Frame Saved!!\n",
      "#37 Frame Saved!!\n",
      "#178 Frame Saved!!\n",
      "#205 Frame Saved!!\n",
      "#210 Frame Saved!!\n",
      "#211 Frame Saved!!\n",
      "#212 Frame Saved!!\n",
      "#213 Frame Saved!!\n",
      "#248 Frame Saved!!\n",
      "#253 Frame Saved!!\n",
      "#396 Frame Saved!!\n",
      "#397 Frame Saved!!\n",
      "#481 Frame Saved!!\n",
      "#602 Frame Saved!!\n",
      "#835 Frame Saved!!\n",
      "#1072 Frame Saved!!\n",
      "#1116 Frame Saved!!\n",
      "#1117 Frame Saved!!\n",
      "#1182 Frame Saved!!\n",
      "#1193 Frame Saved!!\n",
      "#1196 Frame Saved!!\n",
      "#1197 Frame Saved!!\n",
      "#1199 Frame Saved!!\n",
      "#1200 Frame Saved!!\n",
      "#1201 Frame Saved!!\n",
      "#1202 Frame Saved!!\n",
      "#1203 Frame Saved!!\n",
      "#1204 Frame Saved!!\n",
      "#1205 Frame Saved!!\n",
      "#1207 Frame Saved!!\n",
      "#1208 Frame Saved!!\n",
      "#1210 Frame Saved!!\n",
      "#1211 Frame Saved!!\n",
      "#1212 Frame Saved!!\n",
      "#1262 Frame Saved!!\n",
      "#1263 Frame Saved!!\n",
      "#1264 Frame Saved!!\n",
      "#1266 Frame Saved!!\n",
      "#1267 Frame Saved!!\n",
      "#1268 Frame Saved!!\n",
      "#1271 Frame Saved!!\n",
      "#1307 Frame Saved!!\n",
      "#1308 Frame Saved!!\n",
      "#1309 Frame Saved!!\n",
      "#1311 Frame Saved!!\n",
      "#1312 Frame Saved!!\n",
      "#1313 Frame Saved!!\n",
      "#1314 Frame Saved!!\n",
      "#1315 Frame Saved!!\n",
      "#1316 Frame Saved!!\n",
      "#1376 Frame Saved!!\n",
      "#1377 Frame Saved!!\n",
      "#1378 Frame Saved!!\n",
      "#1381 Frame Saved!!\n",
      "#1383 Frame Saved!!\n",
      "#1395 Frame Saved!!\n",
      "#1396 Frame Saved!!\n",
      "#1400 Frame Saved!!\n",
      "#1429 Frame Saved!!\n",
      "#1440 Frame Saved!!\n",
      "#1444 Frame Saved!!\n",
      "#1455 Frame Saved!!\n",
      "#1467 Frame Saved!!\n",
      "#1479 Frame Saved!!\n",
      "#1503 Frame Saved!!\n",
      "#1514 Frame Saved!!\n",
      "#1538 Frame Saved!!\n",
      "#1765 Frame Saved!!\n",
      "#1881 Frame Saved!!\n",
      "#1883 Frame Saved!!\n",
      "#1910 Frame Saved!!\n",
      "#2117 Frame Saved!!\n"
     ]
    }
   ],
   "source": [
    "## Define Frame Counter\n",
    "frameCounter = 0\n",
    "\n",
    "## Define SSIM pre-processor\n",
    "def SSIMProcessor(first, second, thisTurn):\n",
    "    \n",
    "    firstImg = Image.fromarray(first)\n",
    "    secondImg = Image.fromarray(second)\n",
    "    if(torch.cuda.is_available()):\n",
    "        score = compare_ssim(firstImg, secondImg)\n",
    "    else:\n",
    "        score = compare_ssim(firstImg, secondImg, GPU=False)\n",
    "\n",
    "    ## If Score is larger than 0.87, then delete Primary\n",
    "    if score < 0.929:\n",
    "        cv2.imwrite(f'{save_DIR}/frame{thisTurn}.jpg', second)\n",
    "        print(f'#{thisTurn} Frame Saved!!')\n",
    "\n",
    "\n",
    "## Video Pre-processing\n",
    "while(video.isOpened()):\n",
    "    ret, image = video.read()\n",
    "    if (int(video.get(1)) % fps == 0):\n",
    "        if (frameCounter == 0):\n",
    "            Primary = image\n",
    "        else :\n",
    "            Secondary = image\n",
    "            SSIMProcessor(Primary, Secondary, frameCounter)\n",
    "            Primary = Secondary\n",
    "        frameCounter += 1\n",
    "    if int(video.get(1)) == length:\n",
    "        break\n",
    "\n",
    "video.release()\n",
    "\n",
    "## Remove Video\n",
    "#os.remove(video_Path)\n",
    "#print(\"Eliminate Video!!\")"
   ]
  },
  {
   "cell_type": "markdown",
   "metadata": {},
   "source": [
    "## 4. PDF 변환"
   ]
  },
  {
   "cell_type": "code",
   "execution_count": 6,
   "metadata": {},
   "outputs": [
    {
     "name": "stdout",
     "output_type": "stream",
     "text": [
      "=== PDF Generator ===\n",
      "End of PDF Generator!!\n"
     ]
    }
   ],
   "source": [
    "print(\"=== PDF Generator ===\")\n",
    "\n",
    "file_list = os.listdir(save_DIR)\n",
    "\n",
    "img_list = []\n",
    "img_path = f'{save_DIR}/{file_list[0]}'\n",
    "im_buf = Image.open(img_path)\n",
    "cvt_rgb_0 = im_buf.convert('RGB')\n",
    "for i in file_list:\n",
    "    img_path = f'{save_DIR}/{i}'\n",
    "    im_buf = Image.open(img_path)\n",
    "    cvt_rgb = im_buf.convert('RGB')\n",
    "    img_list.append(cvt_rgb)\n",
    "\n",
    "del img_list[0]\n",
    "\n",
    "savefilepath = f'./result/pdf/{save_NAME}'\n",
    "try:\n",
    "    if not os.path.exists(savefilepath):\n",
    "        os.makedirs(savefilepath)\n",
    "except OSError:\n",
    "    print(f'Error: Cannot Find Select Directory: {savefilepath}')\n",
    "\n",
    "cvt_rgb_0.save(f'{savefilepath}/{save_NAME}.pdf', save_all=True, append_images=img_list)\n",
    "print(\"End of PDF Generator!!\")"
   ]
  },
  {
   "cell_type": "markdown",
   "metadata": {},
   "source": [
    "## 5. 사진 파일 삭제"
   ]
  },
  {
   "cell_type": "code",
   "execution_count": null,
   "metadata": {},
   "outputs": [],
   "source": [
    "shutil.rmtree(save_DIR, ignore_errors=True)\n",
    "print(\"사진 제거\")\n",
    "print(\"강의 요약 완료\")"
   ]
  }
 ],
 "metadata": {
  "kernelspec": {
   "display_name": "Python 3",
   "language": "python",
   "name": "python3"
  },
  "language_info": {
   "codemirror_mode": {
    "name": "ipython",
    "version": 3
   },
   "file_extension": ".py",
   "mimetype": "text/x-python",
   "name": "python",
   "nbconvert_exporter": "python",
   "pygments_lexer": "ipython3",
   "version": "3.11.2"
  }
 },
 "nbformat": 4,
 "nbformat_minor": 2
}
