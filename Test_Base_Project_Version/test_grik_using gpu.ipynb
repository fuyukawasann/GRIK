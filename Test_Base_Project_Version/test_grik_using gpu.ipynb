{
 "cells": [
  {
   "cell_type": "markdown",
   "metadata": {},
   "source": [
    "# GRIK TEST(GPU ver.)\n",
    "\n",
    "## 1. Import"
   ]
  },
  {
   "cell_type": "code",
   "execution_count": 9,
   "metadata": {},
   "outputs": [],
   "source": [
    "## For Dependency\n",
    "import sys\n",
    "import subprocess"
   ]
  },
  {
   "cell_type": "code",
   "execution_count": 10,
   "metadata": {},
   "outputs": [],
   "source": [
    "## 파이썬 기본 라이브러리\n",
    "import os\n",
    "from datetime import datetime\n",
    "import shutil\n",
    "\n",
    "## 라이브러리가 없으면 설치를 시도하고 이미 설치되어 있으면 import만 한다.\n",
    "try:\n",
    "    from PIL import Image\n",
    "except:\n",
    "    subprocess.check_call([sys.executable,'-m', 'pip', 'install', '--upgrade', 'pip'])\n",
    "    # 에러 발생한 모듈 설치\n",
    "    subprocess.check_call([sys.executable,'-m', 'pip', 'install', '--upgrade', 'pillow'])\n",
    "    from PIL import Image\n",
    "\n",
    "try:\n",
    "    import numpy as np\n",
    "except:\n",
    "    subprocess.check_call([sys.executable,'-m', 'pip', 'install', '--upgrade', 'numpy'])\n",
    "    import numpy as np\n",
    "    \n",
    "\n",
    "try:\n",
    "    import torch\n",
    "except:\n",
    "    # 에러 발생한 모듈 설치\n",
    "    subprocess.check_call([sys.executable,'-m', 'pip', 'install', '--upgrade', 'torch'])\n",
    "    import torch\n",
    "    \n",
    "try:\n",
    "\timport cv2\n",
    "except:\n",
    "    # pip 모듈 업그레이드\n",
    "    subprocess.check_call([sys.executable,'-m', 'pip', 'install', '--upgrade', 'pip'])\n",
    "    # 에러 발생한 모듈 설치\n",
    "    subprocess.check_call([sys.executable,'-m', 'pip', 'install', '--upgrade', 'opencv-python'])\n",
    "    import cv2\n",
    "\n",
    "try:\n",
    "    from skimage.metrics import structural_similarity as ssim\n",
    "except:\n",
    "    # 에러 발생한 모듈 설치\n",
    "    subprocess.check_call([sys.executable,'-m', 'pip', 'install', '--upgrade', 'scikit-image'])\n",
    "    from skimage.metrics import structural_similarity as ssim\n",
    "\n",
    "try:\n",
    "\tfrom SSIM_PIL import compare_ssim\n",
    "except:\n",
    "\t# 모듈 설치 후 import\n",
    "\tsubprocess.check_call([sys.executable,'-m', 'pip', 'install', '--upgrade', 'SSIM-PIL'])\n",
    "\tfrom SSIM_PIL import compare_ssim"
   ]
  },
  {
   "cell_type": "markdown",
   "metadata": {},
   "source": [
    "## 2. 비디오 인식"
   ]
  },
  {
   "cell_type": "code",
   "execution_count": 13,
   "metadata": {},
   "outputs": [],
   "source": [
    "## 비디오 경로\n",
    "video_Path = input(\"비디오 경로를 입력하세요: \")\n",
    "\n",
    "## opencv 비디오 인식\n",
    "video = cv2.VideoCapture(video_Path)\n",
    "\n",
    "## 비디오가 없을 때\n",
    "if not video.isOpened():\n",
    "    print(f'Cannot open the video: {video_Path}')\n",
    "    exit(0)"
   ]
  },
  {
   "cell_type": "code",
   "execution_count": 14,
   "metadata": {},
   "outputs": [],
   "source": [
    "## 비디오 정보\n",
    "length = int(video.get(cv2.CAP_PROP_FRAME_COUNT))\n",
    "width = int(video.get(cv2.CAP_PROP_FRAME_WIDTH))\n",
    "height = int(video.get(cv2.CAP_PROP_FRAME_HEIGHT))\n",
    "fps = round(video.get(cv2.CAP_PROP_FPS))\n",
    "\n",
    "## 디렉토리 생성\n",
    "save_NAME = input(\"저장할 이름을 입력해주세요: \")\n",
    "save_DIR = f'./result/{save_NAME}'\n",
    "try:\n",
    "    if not os.path.exists(save_DIR):\n",
    "        os.makedirs(save_DIR)\n",
    "except OSError:\n",
    "    print(f'Error: Cannot Find SAVE_PATH: {save_DIR}')"
   ]
  },
  {
   "cell_type": "markdown",
   "metadata": {},
   "source": [
    "## 3. 비디오 처리 및 기능 구현"
   ]
  },
  {
   "cell_type": "code",
   "execution_count": 15,
   "metadata": {},
   "outputs": [
    {
     "name": "stdout",
     "output_type": "stream",
     "text": [
      "#27 Frame Saved!!\n",
      "#28 Frame Saved!!\n",
      "#37 Frame Saved!!\n",
      "#178 Frame Saved!!\n",
      "#205 Frame Saved!!\n",
      "#210 Frame Saved!!\n",
      "#211 Frame Saved!!\n",
      "#212 Frame Saved!!\n",
      "#213 Frame Saved!!\n",
      "#248 Frame Saved!!\n",
      "#253 Frame Saved!!\n",
      "#396 Frame Saved!!\n",
      "#397 Frame Saved!!\n",
      "#481 Frame Saved!!\n",
      "#602 Frame Saved!!\n",
      "#835 Frame Saved!!\n",
      "#1072 Frame Saved!!\n",
      "#1116 Frame Saved!!\n",
      "#1117 Frame Saved!!\n",
      "#1182 Frame Saved!!\n",
      "#1193 Frame Saved!!\n",
      "#1196 Frame Saved!!\n",
      "#1197 Frame Saved!!\n",
      "#1199 Frame Saved!!\n",
      "#1200 Frame Saved!!\n",
      "#1201 Frame Saved!!\n",
      "#1202 Frame Saved!!\n",
      "#1203 Frame Saved!!\n",
      "#1204 Frame Saved!!\n",
      "#1205 Frame Saved!!\n",
      "#1207 Frame Saved!!\n",
      "#1208 Frame Saved!!\n",
      "#1210 Frame Saved!!\n",
      "#1211 Frame Saved!!\n",
      "#1212 Frame Saved!!\n",
      "#1262 Frame Saved!!\n",
      "#1263 Frame Saved!!\n",
      "#1264 Frame Saved!!\n",
      "#1266 Frame Saved!!\n",
      "#1267 Frame Saved!!\n",
      "#1268 Frame Saved!!\n",
      "#1271 Frame Saved!!\n",
      "#1307 Frame Saved!!\n",
      "#1308 Frame Saved!!\n",
      "#1309 Frame Saved!!\n",
      "#1311 Frame Saved!!\n",
      "#1312 Frame Saved!!\n",
      "#1313 Frame Saved!!\n",
      "#1314 Frame Saved!!\n",
      "#1315 Frame Saved!!\n",
      "#1316 Frame Saved!!\n",
      "#1376 Frame Saved!!\n",
      "#1377 Frame Saved!!\n",
      "#1378 Frame Saved!!\n",
      "#1381 Frame Saved!!\n",
      "#1383 Frame Saved!!\n",
      "#1395 Frame Saved!!\n",
      "#1396 Frame Saved!!\n",
      "#1400 Frame Saved!!\n",
      "#1429 Frame Saved!!\n",
      "#1440 Frame Saved!!\n",
      "#1444 Frame Saved!!\n",
      "#1455 Frame Saved!!\n"
     ]
    },
    {
     "ename": "KeyboardInterrupt",
     "evalue": "",
     "output_type": "error",
     "traceback": [
      "\u001b[0;31m---------------------------------------------------------------------------\u001b[0m",
      "\u001b[0;31mKeyboardInterrupt\u001b[0m                         Traceback (most recent call last)",
      "Cell \u001b[0;32mIn[15], line 28\u001b[0m\n\u001b[1;32m     26\u001b[0m \u001b[38;5;28;01melse\u001b[39;00m :\n\u001b[1;32m     27\u001b[0m     Secondary \u001b[38;5;241m=\u001b[39m image\n\u001b[0;32m---> 28\u001b[0m     \u001b[43mSSIMProcessor\u001b[49m\u001b[43m(\u001b[49m\u001b[43mPrimary\u001b[49m\u001b[43m,\u001b[49m\u001b[43m \u001b[49m\u001b[43mSecondary\u001b[49m\u001b[43m,\u001b[49m\u001b[43m \u001b[49m\u001b[43mframeCounter\u001b[49m\u001b[43m)\u001b[49m\n\u001b[1;32m     29\u001b[0m     Primary \u001b[38;5;241m=\u001b[39m Secondary\n\u001b[1;32m     30\u001b[0m frameCounter \u001b[38;5;241m+\u001b[39m\u001b[38;5;241m=\u001b[39m \u001b[38;5;241m1\u001b[39m\n",
      "Cell \u001b[0;32mIn[15], line 12\u001b[0m, in \u001b[0;36mSSIMProcessor\u001b[0;34m(first, second, thisTurn)\u001b[0m\n\u001b[1;32m     10\u001b[0m     score \u001b[38;5;241m=\u001b[39m compare_ssim(firstImg, secondImg)\n\u001b[1;32m     11\u001b[0m \u001b[38;5;28;01melse\u001b[39;00m:\n\u001b[0;32m---> 12\u001b[0m     score \u001b[38;5;241m=\u001b[39m \u001b[43mcompare_ssim\u001b[49m\u001b[43m(\u001b[49m\u001b[43mfirstImg\u001b[49m\u001b[43m,\u001b[49m\u001b[43m \u001b[49m\u001b[43msecondImg\u001b[49m\u001b[43m,\u001b[49m\u001b[43m \u001b[49m\u001b[43mGPU\u001b[49m\u001b[38;5;241;43m=\u001b[39;49m\u001b[38;5;28;43;01mFalse\u001b[39;49;00m\u001b[43m)\u001b[49m\n\u001b[1;32m     14\u001b[0m \u001b[38;5;66;03m## If Score is larger than 0.87, then delete Primary\u001b[39;00m\n\u001b[1;32m     15\u001b[0m \u001b[38;5;28;01mif\u001b[39;00m score \u001b[38;5;241m<\u001b[39m \u001b[38;5;241m0.925\u001b[39m:\n",
      "File \u001b[0;32m/opt/homebrew/lib/python3.11/site-packages/SSIM_PIL/__main__.py:59\u001b[0m, in \u001b[0;36mcompare_ssim\u001b[0;34m(image_0, image_1, tile_size, GPU)\u001b[0m\n\u001b[1;32m     55\u001b[0m         \u001b[38;5;28mprint\u001b[39m(_msg)\n\u001b[1;32m     56\u001b[0m \u001b[38;5;66;03m# no else\u001b[39;00m\n\u001b[1;32m     57\u001b[0m \n\u001b[1;32m     58\u001b[0m \u001b[38;5;66;03m# Calculate mean\u001b[39;00m\n\u001b[0;32m---> 59\u001b[0m \u001b[38;5;28;01mreturn\u001b[39;00m \u001b[43mget_ssim_sum\u001b[49m\u001b[43m(\u001b[49m\u001b[43mimage_0\u001b[49m\u001b[43m,\u001b[49m\u001b[43m \u001b[49m\u001b[43mimage_1\u001b[49m\u001b[43m,\u001b[49m\u001b[43m \u001b[49m\u001b[43mtile_size\u001b[49m\u001b[43m,\u001b[49m\u001b[43m \u001b[49m\u001b[43mpixel_len\u001b[49m\u001b[43m,\u001b[49m\u001b[43m \u001b[49m\u001b[43mwidth\u001b[49m\u001b[43m,\u001b[49m\u001b[43m \u001b[49m\u001b[43mheight\u001b[49m\u001b[43m,\u001b[49m\u001b[43m \u001b[49m\u001b[43mc_1\u001b[49m\u001b[43m,\u001b[49m\u001b[43m \u001b[49m\u001b[43mc_2\u001b[49m\u001b[43m)\u001b[49m \u001b[38;5;241m*\u001b[39m pixel_len \u001b[38;5;241m/\u001b[39m (\n\u001b[1;32m     60\u001b[0m         \u001b[38;5;28mlen\u001b[39m(image_0\u001b[38;5;241m.\u001b[39mmode) \u001b[38;5;241m*\u001b[39m width \u001b[38;5;241m*\u001b[39m height)\n",
      "File \u001b[0;32m/opt/homebrew/lib/python3.11/site-packages/SSIM_PIL/_cpu_strategy.py:52\u001b[0m, in \u001b[0;36mget_ssim_sum\u001b[0;34m(image_0, image_1, tile_size, pixel_len, width, height, c_1, c_2)\u001b[0m\n\u001b[1;32m     50\u001b[0m     color_count_0[i1] \u001b[38;5;241m+\u001b[39m\u001b[38;5;241m=\u001b[39m \u001b[38;5;241m1\u001b[39m\n\u001b[1;32m     51\u001b[0m     color_count_1[i2] \u001b[38;5;241m+\u001b[39m\u001b[38;5;241m=\u001b[39m \u001b[38;5;241m1\u001b[39m\n\u001b[0;32m---> 52\u001b[0m     covariance \u001b[38;5;241m+\u001b[39m\u001b[38;5;241m=\u001b[39m i1 \u001b[38;5;241m*\u001b[39m i2\n\u001b[1;32m     54\u001b[0m pixel_sum_0 \u001b[38;5;241m=\u001b[39m \u001b[38;5;28msum\u001b[39m(pixel0)\n\u001b[1;32m     55\u001b[0m pixel_sum_1 \u001b[38;5;241m=\u001b[39m \u001b[38;5;28msum\u001b[39m(pixel1)\n",
      "\u001b[0;31mKeyboardInterrupt\u001b[0m: "
     ]
    }
   ],
   "source": [
    "## Define Frame Counter\n",
    "frameCounter = 0\n",
    "\n",
    "## Define SSIM pre-processor\n",
    "def SSIMProcessor(first, second, thisTurn):\n",
    "    \n",
    "    firstImg = Image.fromarray(first)\n",
    "    secondImg = Image.fromarray(second)\n",
    "    if(torch.cuda.is_available()):\n",
    "        score = compare_ssim(firstImg, secondImg)\n",
    "    else:\n",
    "        score = compare_ssim(firstImg, secondImg, GPU=False)\n",
    "\n",
    "    ## If Score is larger than 0.87, then delete Primary\n",
    "    if score < 0.929:\n",
    "        cv2.imwrite(f'{save_DIR}/frame{thisTurn}.jpg', second)\n",
    "        print(f'#{thisTurn} Frame Saved!!')\n",
    "\n",
    "\n",
    "## Video Pre-processing\n",
    "while(video.isOpened()):\n",
    "    ret, image = video.read()\n",
    "    if (int(video.get(1)) % fps == 0):\n",
    "        if (frameCounter == 0):\n",
    "            Primary = image\n",
    "        else :\n",
    "            Secondary = image\n",
    "            SSIMProcessor(Primary, Secondary, frameCounter)\n",
    "            Primary = Secondary\n",
    "        frameCounter += 1\n",
    "    if int(video.get(1)) == length:\n",
    "        break\n",
    "\n",
    "video.release()\n",
    "\n",
    "## Remove Video\n",
    "#os.remove(video_Path)\n",
    "#print(\"Eliminate Video!!\")"
   ]
  },
  {
   "cell_type": "markdown",
   "metadata": {},
   "source": [
    "## 4. PDF 변환"
   ]
  },
  {
   "cell_type": "code",
   "execution_count": 7,
   "metadata": {},
   "outputs": [
    {
     "name": "stdout",
     "output_type": "stream",
     "text": [
      "=== PDF Generator ===\n"
     ]
    },
    {
     "ename": "IndexError",
     "evalue": "list index out of range",
     "output_type": "error",
     "traceback": [
      "\u001b[0;31m---------------------------------------------------------------------------\u001b[0m",
      "\u001b[0;31mIndexError\u001b[0m                                Traceback (most recent call last)",
      "Cell \u001b[0;32mIn[7], line 6\u001b[0m\n\u001b[1;32m      3\u001b[0m file_list \u001b[38;5;241m=\u001b[39m os\u001b[38;5;241m.\u001b[39mlistdir(save_DIR)\n\u001b[1;32m      5\u001b[0m img_list \u001b[38;5;241m=\u001b[39m []\n\u001b[0;32m----> 6\u001b[0m img_path \u001b[38;5;241m=\u001b[39m \u001b[38;5;124mf\u001b[39m\u001b[38;5;124m'\u001b[39m\u001b[38;5;132;01m{\u001b[39;00msave_DIR\u001b[38;5;132;01m}\u001b[39;00m\u001b[38;5;124m/\u001b[39m\u001b[38;5;132;01m{\u001b[39;00m\u001b[43mfile_list\u001b[49m\u001b[43m[\u001b[49m\u001b[38;5;241;43m0\u001b[39;49m\u001b[43m]\u001b[49m\u001b[38;5;132;01m}\u001b[39;00m\u001b[38;5;124m'\u001b[39m\n\u001b[1;32m      7\u001b[0m im_buf \u001b[38;5;241m=\u001b[39m Image\u001b[38;5;241m.\u001b[39mopen(img_path)\n\u001b[1;32m      8\u001b[0m cvt_rgb_0 \u001b[38;5;241m=\u001b[39m im_buf\u001b[38;5;241m.\u001b[39mconvert(\u001b[38;5;124m'\u001b[39m\u001b[38;5;124mRGB\u001b[39m\u001b[38;5;124m'\u001b[39m)\n",
      "\u001b[0;31mIndexError\u001b[0m: list index out of range"
     ]
    }
   ],
   "source": [
    "print(\"=== PDF Generator ===\")\n",
    "\n",
    "file_list = os.listdir(save_DIR)\n",
    "\n",
    "img_list = []\n",
    "img_path = f'{save_DIR}/{file_list[0]}'\n",
    "im_buf = Image.open(img_path)\n",
    "cvt_rgb_0 = im_buf.convert('RGB')\n",
    "for i in file_list:\n",
    "    img_path = f'{save_DIR}/{i}'\n",
    "    im_buf = Image.open(img_path)\n",
    "    cvt_rgb = im_buf.convert('RGB')\n",
    "    img_list.append(cvt_rgb)\n",
    "\n",
    "del img_list[0]\n",
    "\n",
    "savefilepath = f'./result/pdf/{save_NAME}'\n",
    "try:\n",
    "    if not os.path.exists(savefilepath):\n",
    "        os.makedirs(savefilepath)\n",
    "except OSError:\n",
    "    print(f'Error: Cannot Find Select Directory: {savefilepath}')\n",
    "\n",
    "cvt_rgb_0.save(f'{savefilepath}/{save_NAME}.pdf', save_all=True, append_images=img_list)\n",
    "print(\"End of PDF Generator!!\")"
   ]
  },
  {
   "cell_type": "markdown",
   "metadata": {},
   "source": [
    "## 5. 사진 파일 삭제"
   ]
  },
  {
   "cell_type": "code",
   "execution_count": null,
   "metadata": {},
   "outputs": [],
   "source": [
    "shutil.rmtree(save_DIR, ignore_errors=True)\n",
    "print(\"사진 제거\")\n",
    "print(\"강의 요약 완료\")"
   ]
  }
 ],
 "metadata": {
  "kernelspec": {
   "display_name": "Python 3",
   "language": "python",
   "name": "python3"
  },
  "language_info": {
   "codemirror_mode": {
    "name": "ipython",
    "version": 3
   },
   "file_extension": ".py",
   "mimetype": "text/x-python",
   "name": "python",
   "nbconvert_exporter": "python",
   "pygments_lexer": "ipython3",
   "version": "3.11.9"
  }
 },
 "nbformat": 4,
 "nbformat_minor": 2
}
