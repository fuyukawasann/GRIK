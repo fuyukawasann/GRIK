{
 "cells": [
  {
   "cell_type": "markdown",
   "metadata": {},
   "source": [
    "# GRIK Project Using YOLOv7-tiny"
   ]
  },
  {
   "cell_type": "markdown",
   "metadata": {},
   "source": [
    "## YOLOv7-tiny 환경설정"
   ]
  },
  {
   "cell_type": "markdown",
   "metadata": {},
   "source": [
    "### 현재 경로 출력"
   ]
  },
  {
   "cell_type": "code",
   "execution_count": 11,
   "metadata": {},
   "outputs": [
    {
     "name": "stdout",
     "output_type": "stream",
     "text": [
      "/Users/ihanbyeol/Desktop/GRIK/Project/GRIK/Test_Yolov7-tiny_Version/yolov7\n"
     ]
    }
   ],
   "source": [
    "## 현재 경로 출력\n",
    "!pwd"
   ]
  },
  {
   "cell_type": "markdown",
   "metadata": {},
   "source": [
    "### YOLOv7 다운로드"
   ]
  },
  {
   "cell_type": "code",
   "execution_count": 1,
   "metadata": {},
   "outputs": [
    {
     "name": "stdout",
     "output_type": "stream",
     "text": [
      "'yolov7'에 복제합니다...\n",
      "remote: Enumerating objects: 1197, done.\u001b[K\n",
      "remote: Total 1197 (delta 0), reused 0 (delta 0), pack-reused 1197\u001b[K\n",
      "오브젝트를 받는 중: 100% (1197/1197), 74.23 MiB | 13.73 MiB/s, 완료.\n",
      "델타를 알아내는 중: 100% (519/519), 완료.\n"
     ]
    }
   ],
   "source": [
    "## YOLOv7 다운로드\n",
    "!git clone https://github.com/WongKinYiu/yolov7.git"
   ]
  },
  {
   "cell_type": "code",
   "execution_count": 2,
   "metadata": {},
   "outputs": [
    {
     "name": "stdout",
     "output_type": "stream",
     "text": [
      "/Users/ihanbyeol/Desktop/GRIK/Project/GRIK/Test_Yolov7-tiny_Version/yolov7\n"
     ]
    },
    {
     "name": "stderr",
     "output_type": "stream",
     "text": [
      "/Users/ihanbyeol/Library/Python/3.11/lib/python/site-packages/IPython/core/magics/osm.py:417: UserWarning: This is now an optional IPython functionality, setting dhist requires you to install the `pickleshare` library.\n",
      "  self.shell.db['dhist'] = compress_dhist(dhist)[-100:]\n"
     ]
    },
    {
     "name": "stdout",
     "output_type": "stream",
     "text": [
      "Requirement already satisfied: matplotlib>=3.2.2 in /Library/Frameworks/Python.framework/Versions/3.10/lib/python3.10/site-packages (from -r requirements.txt (line 4)) (3.6.2)\n",
      "Requirement already satisfied: numpy<1.24.0,>=1.18.5 in /Library/Frameworks/Python.framework/Versions/3.10/lib/python3.10/site-packages (from -r requirements.txt (line 5)) (1.23.1)\n",
      "Requirement already satisfied: opencv-python>=4.1.1 in /Library/Frameworks/Python.framework/Versions/3.10/lib/python3.10/site-packages (from -r requirements.txt (line 6)) (4.6.0.66)\n",
      "Requirement already satisfied: Pillow>=7.1.2 in /Library/Frameworks/Python.framework/Versions/3.10/lib/python3.10/site-packages (from -r requirements.txt (line 7)) (9.2.0)\n",
      "Collecting PyYAML>=5.3.1\n",
      "  Downloading PyYAML-6.0.1-cp310-cp310-macosx_11_0_arm64.whl (169 kB)\n",
      "\u001b[2K     \u001b[90m━━━━━━━━━━━━━━━━━━━━━━━━━━━━━━━━━━━━━━━\u001b[0m \u001b[32m169.3/169.3 kB\u001b[0m \u001b[31m9.8 MB/s\u001b[0m eta \u001b[36m0:00:00\u001b[0m\n",
      "\u001b[?25hRequirement already satisfied: requests>=2.23.0 in /Library/Frameworks/Python.framework/Versions/3.10/lib/python3.10/site-packages (from -r requirements.txt (line 9)) (2.28.1)\n",
      "Requirement already satisfied: scipy>=1.4.1 in /Library/Frameworks/Python.framework/Versions/3.10/lib/python3.10/site-packages (from -r requirements.txt (line 10)) (1.9.0)\n",
      "Requirement already satisfied: torch!=1.12.0,>=1.7.0 in /Library/Frameworks/Python.framework/Versions/3.10/lib/python3.10/site-packages (from -r requirements.txt (line 11)) (1.13.0)\n",
      "Collecting torchvision!=0.13.0,>=0.8.1\n",
      "  Downloading torchvision-0.18.0-cp310-cp310-macosx_11_0_arm64.whl (1.6 MB)\n",
      "\u001b[2K     \u001b[90m━━━━━━━━━━━━━━━━━━━━━━━━━━━━━━━━━━━━━━━━\u001b[0m \u001b[32m1.6/1.6 MB\u001b[0m \u001b[31m11.4 MB/s\u001b[0m eta \u001b[36m0:00:00\u001b[0ma \u001b[36m0:00:01\u001b[0m\n",
      "\u001b[?25hRequirement already satisfied: tqdm>=4.41.0 in /Library/Frameworks/Python.framework/Versions/3.10/lib/python3.10/site-packages (from -r requirements.txt (line 13)) (4.64.1)\n",
      "Collecting protobuf<4.21.3\n",
      "  Downloading protobuf-4.21.2-cp37-abi3-macosx_10_9_universal2.whl (483 kB)\n",
      "\u001b[2K     \u001b[90m━━━━━━━━━━━━━━━━━━━━━━━━━━━━━━━━━━━━━━\u001b[0m \u001b[32m483.1/483.1 kB\u001b[0m \u001b[31m36.7 MB/s\u001b[0m eta \u001b[36m0:00:00\u001b[0m\n",
      "\u001b[?25hCollecting tensorboard>=2.4.1\n",
      "  Downloading tensorboard-2.16.2-py3-none-any.whl (5.5 MB)\n",
      "\u001b[2K     \u001b[90m━━━━━━━━━━━━━━━━━━━━━━━━━━━━━━━━━━━━━━━━\u001b[0m \u001b[32m5.5/5.5 MB\u001b[0m \u001b[31m49.9 MB/s\u001b[0m eta \u001b[36m0:00:00\u001b[0ma \u001b[36m0:00:01\u001b[0m\n",
      "\u001b[?25hRequirement already satisfied: pandas>=1.1.4 in /Library/Frameworks/Python.framework/Versions/3.10/lib/python3.10/site-packages (from -r requirements.txt (line 21)) (1.5.1)\n",
      "Collecting seaborn>=0.11.0\n",
      "  Downloading seaborn-0.13.2-py3-none-any.whl (294 kB)\n",
      "\u001b[2K     \u001b[90m━━━━━━━━━━━━━━━━━━━━━━━━━━━━━━━━━━━━━━\u001b[0m \u001b[32m294.9/294.9 kB\u001b[0m \u001b[31m26.8 MB/s\u001b[0m eta \u001b[36m0:00:00\u001b[0m\n",
      "\u001b[?25hRequirement already satisfied: ipython in /Users/ihanbyeol/Library/Python/3.10/lib/python/site-packages (from -r requirements.txt (line 34)) (8.6.0)\n",
      "Requirement already satisfied: psutil in /Users/ihanbyeol/Library/Python/3.10/lib/python/site-packages (from -r requirements.txt (line 35)) (5.9.4)\n",
      "Collecting thop\n",
      "  Downloading thop-0.1.1.post2209072238-py3-none-any.whl (15 kB)\n",
      "Requirement already satisfied: cycler>=0.10 in /Library/Frameworks/Python.framework/Versions/3.10/lib/python3.10/site-packages (from matplotlib>=3.2.2->-r requirements.txt (line 4)) (0.11.0)\n",
      "Requirement already satisfied: kiwisolver>=1.0.1 in /Library/Frameworks/Python.framework/Versions/3.10/lib/python3.10/site-packages (from matplotlib>=3.2.2->-r requirements.txt (line 4)) (1.4.4)\n",
      "Requirement already satisfied: pyparsing>=2.2.1 in /Library/Frameworks/Python.framework/Versions/3.10/lib/python3.10/site-packages (from matplotlib>=3.2.2->-r requirements.txt (line 4)) (3.0.9)\n",
      "Requirement already satisfied: packaging>=20.0 in /Library/Frameworks/Python.framework/Versions/3.10/lib/python3.10/site-packages (from matplotlib>=3.2.2->-r requirements.txt (line 4)) (21.3)\n",
      "Requirement already satisfied: contourpy>=1.0.1 in /Library/Frameworks/Python.framework/Versions/3.10/lib/python3.10/site-packages (from matplotlib>=3.2.2->-r requirements.txt (line 4)) (1.0.6)\n",
      "Requirement already satisfied: python-dateutil>=2.7 in /Users/ihanbyeol/Library/Python/3.10/lib/python/site-packages (from matplotlib>=3.2.2->-r requirements.txt (line 4)) (2.8.2)\n",
      "Requirement already satisfied: fonttools>=4.22.0 in /Library/Frameworks/Python.framework/Versions/3.10/lib/python3.10/site-packages (from matplotlib>=3.2.2->-r requirements.txt (line 4)) (4.38.0)\n",
      "Requirement already satisfied: urllib3<1.27,>=1.21.1 in /Library/Frameworks/Python.framework/Versions/3.10/lib/python3.10/site-packages (from requests>=2.23.0->-r requirements.txt (line 9)) (1.26.12)\n",
      "Requirement already satisfied: idna<4,>=2.5 in /Users/ihanbyeol/Library/Python/3.10/lib/python/site-packages (from requests>=2.23.0->-r requirements.txt (line 9)) (3.4)\n",
      "Requirement already satisfied: certifi>=2017.4.17 in /Library/Frameworks/Python.framework/Versions/3.10/lib/python3.10/site-packages (from requests>=2.23.0->-r requirements.txt (line 9)) (2022.6.15)\n",
      "Requirement already satisfied: charset-normalizer<3,>=2 in /Library/Frameworks/Python.framework/Versions/3.10/lib/python3.10/site-packages (from requests>=2.23.0->-r requirements.txt (line 9)) (2.1.1)\n",
      "Requirement already satisfied: typing-extensions in /Library/Frameworks/Python.framework/Versions/3.10/lib/python3.10/site-packages (from torch!=1.12.0,>=1.7.0->-r requirements.txt (line 11)) (4.4.0)\n",
      "Collecting torch!=1.12.0,>=1.7.0\n",
      "  Downloading torch-2.3.0-cp310-none-macosx_11_0_arm64.whl (61.0 MB)\n",
      "\u001b[2K     \u001b[90m━━━━━━━━━━━━━━━━━━━━━━━━━━━━━━━━━━━━━━━━\u001b[0m \u001b[32m61.0/61.0 MB\u001b[0m \u001b[31m21.8 MB/s\u001b[0m eta \u001b[36m0:00:00\u001b[0m00:01\u001b[0m00:01\u001b[0m\n",
      "\u001b[?25hCollecting fsspec\n",
      "  Downloading fsspec-2024.5.0-py3-none-any.whl (316 kB)\n",
      "\u001b[2K     \u001b[90m━━━━━━━━━━━━━━━━━━━━━━━━━━━━━━━━━━━━━━\u001b[0m \u001b[32m316.1/316.1 kB\u001b[0m \u001b[31m35.4 MB/s\u001b[0m eta \u001b[36m0:00:00\u001b[0m\n",
      "\u001b[?25hCollecting sympy\n",
      "  Downloading sympy-1.12-py3-none-any.whl (5.7 MB)\n",
      "\u001b[2K     \u001b[90m━━━━━━━━━━━━━━━━━━━━━━━━━━━━━━━━━━━━━━━━\u001b[0m \u001b[32m5.7/5.7 MB\u001b[0m \u001b[31m47.6 MB/s\u001b[0m eta \u001b[36m0:00:00\u001b[0m00:01\u001b[0m00:01\u001b[0m\n",
      "\u001b[?25hRequirement already satisfied: networkx in /Library/Frameworks/Python.framework/Versions/3.10/lib/python3.10/site-packages (from torch!=1.12.0,>=1.7.0->-r requirements.txt (line 11)) (2.8.5)\n",
      "Collecting typing-extensions\n",
      "  Downloading typing_extensions-4.12.0-py3-none-any.whl (37 kB)\n",
      "Collecting filelock\n",
      "  Downloading filelock-3.14.0-py3-none-any.whl (12 kB)\n",
      "Requirement already satisfied: jinja2 in /Users/ihanbyeol/Library/Python/3.10/lib/python/site-packages (from torch!=1.12.0,>=1.7.0->-r requirements.txt (line 11)) (3.1.2)\n",
      "Requirement already satisfied: six>1.9 in /Library/Frameworks/Python.framework/Versions/3.10/lib/python3.10/site-packages (from tensorboard>=2.4.1->-r requirements.txt (line 17)) (1.16.0)\n",
      "Collecting tensorboard-data-server<0.8.0,>=0.7.0\n",
      "  Downloading tensorboard_data_server-0.7.2-py3-none-any.whl (2.4 kB)\n",
      "Collecting absl-py>=0.4\n",
      "  Downloading absl_py-2.1.0-py3-none-any.whl (133 kB)\n",
      "\u001b[2K     \u001b[90m━━━━━━━━━━━━━━━━━━━━━━━━━━━━━━━━━━━━━━\u001b[0m \u001b[32m133.7/133.7 kB\u001b[0m \u001b[31m15.8 MB/s\u001b[0m eta \u001b[36m0:00:00\u001b[0m\n",
      "\u001b[?25hCollecting werkzeug>=1.0.1\n",
      "  Downloading werkzeug-3.0.3-py3-none-any.whl (227 kB)\n",
      "\u001b[2K     \u001b[90m━━━━━━━━━━━━━━━━━━━━━━━━━━━━━━━━━━━━━━\u001b[0m \u001b[32m227.3/227.3 kB\u001b[0m \u001b[31m26.4 MB/s\u001b[0m eta \u001b[36m0:00:00\u001b[0m\n",
      "\u001b[?25hCollecting grpcio>=1.48.2\n",
      "  Downloading grpcio-1.64.0-cp310-cp310-macosx_12_0_universal2.whl (10.3 MB)\n",
      "\u001b[2K     \u001b[90m━━━━━━━━━━━━━━━━━━━━━━━━━━━━━━━━━━━━━━━━\u001b[0m \u001b[32m10.3/10.3 MB\u001b[0m \u001b[31m44.8 MB/s\u001b[0m eta \u001b[36m0:00:00\u001b[0m00:01\u001b[0m0:01\u001b[0m\n",
      "\u001b[?25hCollecting markdown>=2.6.8\n",
      "  Downloading Markdown-3.6-py3-none-any.whl (105 kB)\n",
      "\u001b[2K     \u001b[90m━━━━━━━━━━━━━━━━━━━━━━━━━━━━━━━━━━━━━━\u001b[0m \u001b[32m105.4/105.4 kB\u001b[0m \u001b[31m13.4 MB/s\u001b[0m eta \u001b[36m0:00:00\u001b[0m\n",
      "\u001b[?25hRequirement already satisfied: setuptools>=41.0.0 in /Library/Frameworks/Python.framework/Versions/3.10/lib/python3.10/site-packages (from tensorboard>=2.4.1->-r requirements.txt (line 17)) (58.1.0)\n",
      "Requirement already satisfied: pytz>=2020.1 in /Library/Frameworks/Python.framework/Versions/3.10/lib/python3.10/site-packages (from pandas>=1.1.4->-r requirements.txt (line 21)) (2022.6)\n",
      "Requirement already satisfied: prompt-toolkit<3.1.0,>3.0.1 in /Users/ihanbyeol/Library/Python/3.10/lib/python/site-packages (from ipython->-r requirements.txt (line 34)) (3.0.32)\n",
      "Requirement already satisfied: appnope in /Users/ihanbyeol/Library/Python/3.10/lib/python/site-packages (from ipython->-r requirements.txt (line 34)) (0.1.3)\n",
      "Requirement already satisfied: jedi>=0.16 in /Users/ihanbyeol/Library/Python/3.10/lib/python/site-packages (from ipython->-r requirements.txt (line 34)) (0.18.1)\n",
      "Requirement already satisfied: decorator in /Users/ihanbyeol/Library/Python/3.10/lib/python/site-packages (from ipython->-r requirements.txt (line 34)) (5.1.1)\n",
      "Requirement already satisfied: pexpect>4.3 in /Users/ihanbyeol/Library/Python/3.10/lib/python/site-packages (from ipython->-r requirements.txt (line 34)) (4.8.0)\n",
      "Requirement already satisfied: backcall in /Users/ihanbyeol/Library/Python/3.10/lib/python/site-packages (from ipython->-r requirements.txt (line 34)) (0.2.0)\n",
      "Requirement already satisfied: stack-data in /Users/ihanbyeol/Library/Python/3.10/lib/python/site-packages (from ipython->-r requirements.txt (line 34)) (0.6.1)\n",
      "Requirement already satisfied: matplotlib-inline in /Users/ihanbyeol/Library/Python/3.10/lib/python/site-packages (from ipython->-r requirements.txt (line 34)) (0.1.6)\n",
      "Requirement already satisfied: traitlets>=5 in /Users/ihanbyeol/Library/Python/3.10/lib/python/site-packages (from ipython->-r requirements.txt (line 34)) (5.5.0)\n",
      "Requirement already satisfied: pickleshare in /Users/ihanbyeol/Library/Python/3.10/lib/python/site-packages (from ipython->-r requirements.txt (line 34)) (0.7.5)\n",
      "Requirement already satisfied: pygments>=2.4.0 in /Users/ihanbyeol/Library/Python/3.10/lib/python/site-packages (from ipython->-r requirements.txt (line 34)) (2.13.0)\n",
      "Requirement already satisfied: parso<0.9.0,>=0.8.0 in /Users/ihanbyeol/Library/Python/3.10/lib/python/site-packages (from jedi>=0.16->ipython->-r requirements.txt (line 34)) (0.8.3)\n",
      "Requirement already satisfied: ptyprocess>=0.5 in /Users/ihanbyeol/Library/Python/3.10/lib/python/site-packages (from pexpect>4.3->ipython->-r requirements.txt (line 34)) (0.7.0)\n",
      "Requirement already satisfied: wcwidth in /Users/ihanbyeol/Library/Python/3.10/lib/python/site-packages (from prompt-toolkit<3.1.0,>3.0.1->ipython->-r requirements.txt (line 34)) (0.2.5)\n",
      "Requirement already satisfied: MarkupSafe>=2.1.1 in /Users/ihanbyeol/Library/Python/3.10/lib/python/site-packages (from werkzeug>=1.0.1->tensorboard>=2.4.1->-r requirements.txt (line 17)) (2.1.1)\n",
      "Requirement already satisfied: asttokens>=2.1.0 in /Users/ihanbyeol/Library/Python/3.10/lib/python/site-packages (from stack-data->ipython->-r requirements.txt (line 34)) (2.1.0)\n",
      "Requirement already satisfied: executing>=1.2.0 in /Users/ihanbyeol/Library/Python/3.10/lib/python/site-packages (from stack-data->ipython->-r requirements.txt (line 34)) (1.2.0)\n",
      "Requirement already satisfied: pure-eval in /Users/ihanbyeol/Library/Python/3.10/lib/python/site-packages (from stack-data->ipython->-r requirements.txt (line 34)) (0.2.2)\n",
      "Collecting mpmath>=0.19\n",
      "  Downloading mpmath-1.3.0-py3-none-any.whl (536 kB)\n",
      "\u001b[2K     \u001b[90m━━━━━━━━━━━━━━━━━━━━━━━━━━━━━━━━━━━━━━\u001b[0m \u001b[32m536.2/536.2 kB\u001b[0m \u001b[31m35.1 MB/s\u001b[0m eta \u001b[36m0:00:00\u001b[0m\n",
      "\u001b[?25hInstalling collected packages: mpmath, werkzeug, typing-extensions, tensorboard-data-server, sympy, PyYAML, protobuf, markdown, grpcio, fsspec, filelock, absl-py, torch, tensorboard, torchvision, thop, seaborn\n",
      "  Attempting uninstall: typing-extensions\n",
      "    Found existing installation: typing_extensions 4.4.0\n",
      "    Uninstalling typing_extensions-4.4.0:\n",
      "      Successfully uninstalled typing_extensions-4.4.0\n",
      "  Attempting uninstall: torch\n",
      "    Found existing installation: torch 1.13.0\n",
      "    Uninstalling torch-1.13.0:\n",
      "      Successfully uninstalled torch-1.13.0\n",
      "Successfully installed PyYAML-6.0.1 absl-py-2.1.0 filelock-3.14.0 fsspec-2024.5.0 grpcio-1.64.0 markdown-3.6 mpmath-1.3.0 protobuf-4.21.2 seaborn-0.13.2 sympy-1.12 tensorboard-2.16.2 tensorboard-data-server-0.7.2 thop-0.1.1.post2209072238 torch-2.3.0 torchvision-0.18.0 typing-extensions-4.12.0 werkzeug-3.0.3\n",
      "\n",
      "\u001b[1m[\u001b[0m\u001b[34;49mnotice\u001b[0m\u001b[1;39;49m]\u001b[0m\u001b[39;49m A new release of pip available: \u001b[0m\u001b[31;49m22.3.1\u001b[0m\u001b[39;49m -> \u001b[0m\u001b[32;49m24.0\u001b[0m\n",
      "\u001b[1m[\u001b[0m\u001b[34;49mnotice\u001b[0m\u001b[1;39;49m]\u001b[0m\u001b[39;49m To update, run: \u001b[0m\u001b[32;49mpip install --upgrade pip\u001b[0m\n"
     ]
    }
   ],
   "source": [
    "## 패키지 설치\n",
    "%cd yolov7/\n",
    "!pip install -r requirements.txt"
   ]
  },
  {
   "cell_type": "markdown",
   "metadata": {},
   "source": [
    "### 데이터 옮기기"
   ]
  },
  {
   "cell_type": "code",
   "execution_count": 10,
   "metadata": {},
   "outputs": [
    {
     "name": "stdout",
     "output_type": "stream",
     "text": [
      "/Users/ihanbyeol/Desktop/GRIK/Project/GRIK/Test_Yolov7-tiny_Version/yolov7\n",
      "checkdir:  cannot create extraction directory: /data\n",
      "           Read-only file system\n"
     ]
    }
   ],
   "source": [
    "!cd data/\n",
    "!pwd\n",
    "!unzip -uq \"../GRIKDataset.zip\" -d \"/data/\""
   ]
  },
  {
   "cell_type": "code",
   "execution_count": null,
   "metadata": {},
   "outputs": [],
   "source": [
    "!pip install roboflow\n",
    "\n",
    "from roboflow import Roboflow\n",
    "rf = Roboflow(api_key=\"zeD6gLmk5gzUuE9KQKfc\")\n",
    "project = rf.workspace(\"grik-79lge\").project(\"grik-handwrite-finder\")\n",
    "version = project.version(2)\n",
    "dataset = version.download(\"yolov7\")"
   ]
  }
 ],
 "metadata": {
  "kernelspec": {
   "display_name": "Python 3",
   "language": "python",
   "name": "python3"
  },
  "language_info": {
   "codemirror_mode": {
    "name": "ipython",
    "version": 3
   },
   "file_extension": ".py",
   "mimetype": "text/x-python",
   "name": "python",
   "nbconvert_exporter": "python",
   "pygments_lexer": "ipython3",
   "version": "3.11.9"
  }
 },
 "nbformat": 4,
 "nbformat_minor": 2
}
