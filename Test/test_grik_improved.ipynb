{
 "cells": [
  {
   "cell_type": "markdown",
   "metadata": {},
   "source": [
    "# GRIK Test(Improved)"
   ]
  },
  {
   "cell_type": "markdown",
   "metadata": {},
   "source": [
    "## 1. Import 부분"
   ]
  },
  {
   "cell_type": "code",
   "execution_count": 1,
   "metadata": {},
   "outputs": [],
   "source": [
    "## 설치 안된 Dependency를 처리하기 위해\n",
    "import sys\n",
    "import subprocess"
   ]
  },
  {
   "cell_type": "code",
   "execution_count": 2,
   "metadata": {},
   "outputs": [],
   "source": [
    "## 파이썬 기본 라이브러리\n",
    "import os\n",
    "from PIL import Image\n",
    "from datetime import datetime\n",
    "import shutil\n",
    "\n",
    "## 라이브러리가 없으면 설치를 시도하고 이미 설치되어 있으면 import만 한다.\n",
    "try:\n",
    "\timport cv2\n",
    "except:\n",
    "    # pip 모듈 업그레이드\n",
    "    subprocess.check_call([sys.executable,'-m', 'pip', 'install', '--upgrade', 'pip'])\n",
    "    # 에러 발생한 모듈 설치\n",
    "    subprocess.check_call([sys.executable,'-m', 'pip', 'install', '--upgrade', 'opencv-python'])\n",
    "    import cv2\n",
    "\n",
    "try:\n",
    "    from skimage.metrics import structural_similarity as ssim\n",
    "except:\n",
    "    # 에러 발생한 모듈 설치\n",
    "    subprocess.check_call([sys.executable,'-m', 'pip', 'install', '--upgrade', 'scikit-image'])\n",
    "    from skimage.metrics import structural_similarity as ssim"
   ]
  },
  {
   "cell_type": "markdown",
   "metadata": {},
   "source": [
    "## 2. 비디오 인식"
   ]
  },
  {
   "cell_type": "code",
   "execution_count": 3,
   "metadata": {},
   "outputs": [],
   "source": [
    "## 비디오 경로\n",
    "video_Path = input(\"비디오 경로를 입력하세요: \")\n",
    "\n",
    "## opencv 비디오 인식\n",
    "video = cv2.VideoCapture(video_Path)\n",
    "\n",
    "## 비디오가 없을 때\n",
    "if not video.isOpened():\n",
    "    print(f'Cannot open the video: {video_Path}')\n",
    "    exit(0)"
   ]
  },
  {
   "cell_type": "code",
   "execution_count": 4,
   "metadata": {},
   "outputs": [],
   "source": [
    "## 비디오 정보\n",
    "length = int(video.get(cv2.CAP_PROP_FRAME_COUNT))\n",
    "width = int(video.get(cv2.CAP_PROP_FRAME_WIDTH))\n",
    "height = int(video.get(cv2.CAP_PROP_FRAME_HEIGHT))\n",
    "fps = round(video.get(cv2.CAP_PROP_FPS))\n",
    "\n",
    "## 디렉토리 생성\n",
    "save_NAME = input(\"저장할 이름을 입력해주세요: \")\n",
    "save_DIR = f'./result/{save_NAME}'\n",
    "try:\n",
    "    if not os.path.exists(save_DIR):\n",
    "        os.makedirs(save_DIR)\n",
    "except OSError:\n",
    "    print(f'Error: Cannot Find SAVE_PATH: {save_DIR}')"
   ]
  },
  {
   "cell_type": "markdown",
   "metadata": {},
   "source": [
    "## 3. 비디오 처리 및 기능 구현"
   ]
  },
  {
   "cell_type": "code",
   "execution_count": 11,
   "metadata": {},
   "outputs": [
    {
     "name": "stdout",
     "output_type": "stream",
     "text": [
      "#35 Frame Saved!!\n",
      "#40 Frame Saved!!\n",
      "#622 Frame Saved!!\n",
      "#859 Frame Saved!!\n",
      "#903 Frame Saved!!\n",
      "#904 Frame Saved!!\n",
      "#969 Frame Saved!!\n",
      "#980 Frame Saved!!\n",
      "#983 Frame Saved!!\n",
      "#984 Frame Saved!!\n",
      "#986 Frame Saved!!\n",
      "#987 Frame Saved!!\n",
      "#988 Frame Saved!!\n",
      "#989 Frame Saved!!\n",
      "#990 Frame Saved!!\n",
      "#991 Frame Saved!!\n",
      "#992 Frame Saved!!\n",
      "#994 Frame Saved!!\n",
      "#995 Frame Saved!!\n",
      "#997 Frame Saved!!\n",
      "#1049 Frame Saved!!\n",
      "#1050 Frame Saved!!\n",
      "#1051 Frame Saved!!\n",
      "#1053 Frame Saved!!\n",
      "#1054 Frame Saved!!\n",
      "#1055 Frame Saved!!\n",
      "#1058 Frame Saved!!\n",
      "#1094 Frame Saved!!\n",
      "#1095 Frame Saved!!\n",
      "#1096 Frame Saved!!\n",
      "#1098 Frame Saved!!\n",
      "#1099 Frame Saved!!\n",
      "#1100 Frame Saved!!\n",
      "#1101 Frame Saved!!\n",
      "#1102 Frame Saved!!\n",
      "#1103 Frame Saved!!\n",
      "#1163 Frame Saved!!\n",
      "#1164 Frame Saved!!\n",
      "#1165 Frame Saved!!\n",
      "#1168 Frame Saved!!\n",
      "#1170 Frame Saved!!\n",
      "#1182 Frame Saved!!\n",
      "#1183 Frame Saved!!\n",
      "#1187 Frame Saved!!\n",
      "#1325 Frame Saved!!\n",
      "#1552 Frame Saved!!\n",
      "#1904 Frame Saved!!\n"
     ]
    }
   ],
   "source": [
    "## Define Frame Counter\n",
    "frameCounter = 0\n",
    "\n",
    "## Define SSIM pre-processor\n",
    "def SSIMProcessor(first, second, thisTurn):\n",
    "    ## Load Image\n",
    "    #imageA = cv2.imread(first)\n",
    "    #imageB = cv2.imread(second)\n",
    "\n",
    "    ## Filtered Gray Scale\n",
    "    grayA = cv2.cvtColor(first, cv2.COLOR_BGR2GRAY)\n",
    "    grayB = cv2.cvtColor(second, cv2.COLOR_BGR2GRAY)\n",
    "\n",
    "    ## Saving Score\n",
    "    (score, diff) = ssim(grayA, grayB, full=True)\n",
    "    diff = (diff * 225).astype(\"uint8\")\n",
    "\n",
    "    ## If Score is larger than 0.87, then delete Primary\n",
    "    if score < 0.8:\n",
    "        cv2.imwrite(f'{save_DIR}/frame{thisTurn}.jpg', second)\n",
    "        print(f'#{thisTurn} Frame Saved!!')\n",
    "\n",
    "\n",
    "## Video Pre-processing\n",
    "while(video.isOpened()):\n",
    "    ret, image = video.read()\n",
    "    if (int(video.get(1)) % fps == 0):\n",
    "        if (frameCounter == 0):\n",
    "            Primary = image\n",
    "        else :\n",
    "            Secondary = image\n",
    "            SSIMProcessor(Primary, Secondary, frameCounter)\n",
    "            Primary = Secondary\n",
    "        frameCounter += 1\n",
    "    if int(video.get(1)) == length:\n",
    "        break\n",
    "\n",
    "video.release()\n",
    "\n",
    "## Remove Video\n",
    "#os.remove(video_Path)\n",
    "#print(\"Eliminate Video!!\")"
   ]
  },
  {
   "cell_type": "markdown",
   "metadata": {},
   "source": [
    "## 4. PDF 변환"
   ]
  },
  {
   "cell_type": "code",
   "execution_count": 12,
   "metadata": {},
   "outputs": [
    {
     "name": "stdout",
     "output_type": "stream",
     "text": [
      "=== PDF Generator ===\n",
      "End of PDF Generator!!\n"
     ]
    }
   ],
   "source": [
    "print(\"=== PDF Generator ===\")\n",
    "\n",
    "file_list = os.listdir(save_DIR)\n",
    "\n",
    "img_list = []\n",
    "img_path = f'{save_DIR}/{file_list[0]}'\n",
    "im_buf = Image.open(img_path)\n",
    "cvt_rgb_0 = im_buf.convert('RGB')\n",
    "for i in file_list:\n",
    "    img_path = f'{save_DIR}/{i}'\n",
    "    im_buf = Image.open(img_path)\n",
    "    cvt_rgb = im_buf.convert('RGB')\n",
    "    img_list.append(cvt_rgb)\n",
    "\n",
    "del img_list[0]\n",
    "\n",
    "savefilepath = f'./result/pdf/{save_NAME}'\n",
    "try:\n",
    "    if not os.path.exists(savefilepath):\n",
    "        os.makedirs(savefilepath)\n",
    "except OSError:\n",
    "    print(f'Error: Cannot Find Select Directory: {savefilepath}')\n",
    "\n",
    "cvt_rgb_0.save(f'{savefilepath}/{save_NAME}.pdf', save_all=True, append_images=img_list)\n",
    "print(\"End of PDF Generator!!\")"
   ]
  },
  {
   "cell_type": "markdown",
   "metadata": {},
   "source": [
    "## 5. 사진 파일 삭제"
   ]
  },
  {
   "cell_type": "code",
   "execution_count": 13,
   "metadata": {},
   "outputs": [
    {
     "name": "stdout",
     "output_type": "stream",
     "text": [
      "사진 제거\n",
      "강의 요약 완료\n"
     ]
    }
   ],
   "source": [
    "shutil.rmtree(save_DIR, ignore_errors=True)\n",
    "print(\"사진 제거\")\n",
    "print(\"강의 요약 완료\")"
   ]
  }
 ],
 "metadata": {
  "kernelspec": {
   "display_name": "Python 3",
   "language": "python",
   "name": "python3"
  },
  "language_info": {
   "codemirror_mode": {
    "name": "ipython",
    "version": 3
   },
   "file_extension": ".py",
   "mimetype": "text/x-python",
   "name": "python",
   "nbconvert_exporter": "python",
   "pygments_lexer": "ipython3",
   "version": "3.11.2"
  }
 },
 "nbformat": 4,
 "nbformat_minor": 2
}
