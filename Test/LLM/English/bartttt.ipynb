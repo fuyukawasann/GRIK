{
  "nbformat": 4,
  "nbformat_minor": 0,
  "metadata": {
    "colab": {
      "provenance": [],
      "gpuType": "T4"
    },
    "kernelspec": {
      "name": "python3",
      "display_name": "Python 3"
    },
    "language_info": {
      "name": "python"
    },
    "accelerator": "GPU"
  },
  "cells": [
    {
      "cell_type": "code",
      "execution_count": 1,
      "metadata": {
        "colab": {
          "base_uri": "https://localhost:8080/"
        },
        "id": "MwuzeqwgDV05",
        "outputId": "f438892b-76a4-4d87-c434-86938056a2f5"
      },
      "outputs": [
        {
          "output_type": "stream",
          "name": "stdout",
          "text": [
            "Requirement already satisfied: transformers in /usr/local/lib/python3.10/dist-packages (4.44.2)\n",
            "Requirement already satisfied: filelock in /usr/local/lib/python3.10/dist-packages (from transformers) (3.16.1)\n",
            "Requirement already satisfied: huggingface-hub<1.0,>=0.23.2 in /usr/local/lib/python3.10/dist-packages (from transformers) (0.24.7)\n",
            "Requirement already satisfied: numpy>=1.17 in /usr/local/lib/python3.10/dist-packages (from transformers) (1.26.4)\n",
            "Requirement already satisfied: packaging>=20.0 in /usr/local/lib/python3.10/dist-packages (from transformers) (24.1)\n",
            "Requirement already satisfied: pyyaml>=5.1 in /usr/local/lib/python3.10/dist-packages (from transformers) (6.0.2)\n",
            "Requirement already satisfied: regex!=2019.12.17 in /usr/local/lib/python3.10/dist-packages (from transformers) (2024.9.11)\n",
            "Requirement already satisfied: requests in /usr/local/lib/python3.10/dist-packages (from transformers) (2.32.3)\n",
            "Requirement already satisfied: safetensors>=0.4.1 in /usr/local/lib/python3.10/dist-packages (from transformers) (0.4.5)\n",
            "Requirement already satisfied: tokenizers<0.20,>=0.19 in /usr/local/lib/python3.10/dist-packages (from transformers) (0.19.1)\n",
            "Requirement already satisfied: tqdm>=4.27 in /usr/local/lib/python3.10/dist-packages (from transformers) (4.66.5)\n",
            "Requirement already satisfied: fsspec>=2023.5.0 in /usr/local/lib/python3.10/dist-packages (from huggingface-hub<1.0,>=0.23.2->transformers) (2024.6.1)\n",
            "Requirement already satisfied: typing-extensions>=3.7.4.3 in /usr/local/lib/python3.10/dist-packages (from huggingface-hub<1.0,>=0.23.2->transformers) (4.12.2)\n",
            "Requirement already satisfied: charset-normalizer<4,>=2 in /usr/local/lib/python3.10/dist-packages (from requests->transformers) (3.3.2)\n",
            "Requirement already satisfied: idna<4,>=2.5 in /usr/local/lib/python3.10/dist-packages (from requests->transformers) (3.10)\n",
            "Requirement already satisfied: urllib3<3,>=1.21.1 in /usr/local/lib/python3.10/dist-packages (from requests->transformers) (2.2.3)\n",
            "Requirement already satisfied: certifi>=2017.4.17 in /usr/local/lib/python3.10/dist-packages (from requests->transformers) (2024.8.30)\n"
          ]
        }
      ],
      "source": [
        "! pip install transformers"
      ]
    },
    {
      "cell_type": "code",
      "source": [
        "from transformers import BartForConditionalGeneration, BartTokenizer"
      ],
      "metadata": {
        "id": "1rt7vy4nDcWP"
      },
      "execution_count": 2,
      "outputs": []
    },
    {
      "cell_type": "code",
      "source": [
        "model_name = \"facebook/bart-large-cnn\"\n",
        "model = BartForConditionalGeneration.from_pretrained(model_name)\n",
        "tokenizer = BartTokenizer.from_pretrained(model_name)\n",
        "\n",
        "input_text = '''\n",
        "Let’s begin by exploring the three main types of 3D modeling methods: NURBS, Solid, and Polygon modeling. NURBS, which stands for Non-Uniform Rational B-Splines, uses mathematical functions to create smooth and complex curved surfaces. This method offers precise control over intricate designs but requires a good understanding of mathematical formulas, which can be a bit challenging.\n",
        "\n",
        "Next is Polygon Modeling, where the basic unit is the triangle. By connecting vertices, we build our 3D models. The level of detail depends on the number of polygons used. High-resolution models use a large number of polygons, resulting in detailed models but slower rendering speeds. Low-resolution models use fewer polygons, leading to faster rendering but less detail. The key difference lies in balancing detail and performance based on the polygon count.\n",
        "\n",
        "Then we have Solid Modeling, which involves creating models by matching surfaces together to form a fully filled object. These models are solid inside, unlike hollow ones. While they can be heavier and more resource-intensive, they allow us to calculate physical properties like weight and volume accurately.\n",
        "\n",
        "'''\n",
        "\n",
        "script = '''\n",
        "\n",
        "Hello everyone! My name is Hanbyul Lee from Barami’s 27th class, and I’m excited to lead today’s seminar on 3D printing.\n",
        "\n",
        "Over the next six weeks, we’ll embark on a journey into the world of 3D printing. From weeks two to four, we’ll dive into theoretical lectures to build a solid foundation. Then, in weeks five and six, we’ll get hands-on with project sessions. You’ll create your own work plans and experience 3D printing firsthand. Finally, in the sixth week, we’ll come together to present and share our projects.\n",
        "\n",
        "Let’s begin by exploring the three main types of 3D modeling methods: NURBS, Solid, and Polygon modeling. NURBS, which stands for Non-Uniform Rational B-Splines, uses mathematical functions to create smooth and complex curved surfaces. This method offers precise control over intricate designs but requires a good understanding of mathematical formulas, which can be a bit challenging.\n",
        "\n",
        "Next is Polygon Modeling, where the basic unit is the triangle. By connecting vertices, we build our 3D models. The level of detail depends on the number of polygons used. High-resolution models use a large number of polygons, resulting in detailed models but slower rendering speeds. Low-resolution models use fewer polygons, leading to faster rendering but less detail. The key difference lies in balancing detail and performance based on the polygon count.\n",
        "\n",
        "Then we have Solid Modeling, which involves creating models by matching surfaces together to form a fully filled object. These models are solid inside, unlike hollow ones. While they can be heavier and more resource-intensive, they allow us to calculate physical properties like weight and volume accurately.\n",
        "\n",
        "\n",
        "Now, let’s take a look at the 3D workspace, also known as the viewport. The primary view is the Perspective View, which provides an overall look at your model in a realistic, three-dimensional space. In addition to the perspective view, there are three essential orthographic views we need to consider: Top View, Front View, and Left View.\n",
        "\n",
        "The Top View shows the model from above and is useful for understanding the layout and positioning of different parts. The Front View displays the model from the front, helping us analyze height and vertical details. The Left View provides a side perspective from the left, which is useful for examining depth and side features. When you’re drafting your work plans, it’s crucial to include drawings from all three of these views to ensure a comprehensive understanding of your design from every angle.\n",
        "\n",
        "\n",
        "Moving on to how to write a work instruction sheet, this document guides the entire modeling and printing process. The key components are design requirements, information extraction, and drawing the blueprint. In the design requirements, you outline what you aim to achieve with your design, specifying dimensions and any constraints—precise measurements are vital here. Information extraction involves gathering all necessary data and specifications needed for your model, such as materials, tools, or reference models. Drawing the blueprint means creating detailed sketches of your model from different views, including all measurements and dimensions.\n",
        "\n",
        "For instance, if you’re designing a donut-shaped object with an outer diameter of 5 units and an inner diameter of 3 units, the thickness would be 2 units. Including such precise details in your blueprint is essential for accurate modeling.\n",
        "\n",
        "\n",
        "Now, let’s discuss how to prepare your data for printing by adjusting the 3D printer settings. Several key factors need consideration, such as resolution settings, printing speed, temperature settings, supports, and infill density.\n",
        "\n",
        "Resolution settings determine the level of detail and printing time. A 0.4 mm resolution produces rougher models with lower detail but faster printing times. A 0.2 mm resolution offers a good balance between detail and print speed and is commonly used. A 0.1 mm resolution yields highly detailed models but significantly increases printing times.\n",
        "\n",
        "Printing speed is generally preset, so there’s usually no need to adjust it unless you have specific requirements. For temperature settings, set the nozzle temperature to around 210°C and the bed temperature to about 50°C when using PLA filament. Supports are necessary for models with overhangs or intricate features to prevent sagging during the printing process. Infill density determines how solid the inside of your model is and is commonly set between 10% to 20%, balancing structural integrity with material usage.\n",
        "\n",
        "We’ll be using the slicing software CURA during our seminar. It’s a widely used and versatile program that’s great for beginners and experts alike. For materials, we’ll work with PLA filament made from corn starch—it’s safe, easy to use, and environmentally friendly.\n",
        "\n",
        "That brings us to the end of today’s seminar. Thank you all for your attention and participation. I’m really looking forward to seeing the amazing projects you’ll create in the upcoming weeks! If you have any questions or need assistance, please don’t hesitate to reach out. Let’s make the most of this learning experience together.\n",
        "\n",
        "Thank you!”\n",
        "'''"
      ],
      "metadata": {
        "colab": {
          "base_uri": "https://localhost:8080/"
        },
        "id": "KfjbgS8LDhz9",
        "outputId": "5f3250b5-937e-4cc2-d72e-dc1893712dc6"
      },
      "execution_count": 9,
      "outputs": [
        {
          "output_type": "stream",
          "name": "stderr",
          "text": [
            "/usr/local/lib/python3.10/dist-packages/transformers/tokenization_utils_base.py:1601: FutureWarning: `clean_up_tokenization_spaces` was not set. It will be set to `True` by default. This behavior will be depracted in transformers v4.45, and will be then set to `False` by default. For more details check this issue: https://github.com/huggingface/transformers/issues/31884\n",
            "  warnings.warn(\n"
          ]
        }
      ]
    },
    {
      "cell_type": "code",
      "source": [
        "def chunk_text(text, max_token_length=1024):\n",
        "    inputs = tokenizer(text, return_tensors=\"pt\", truncation=False)\n",
        "    input_ids = inputs['input_ids'][0]\n",
        "    chunks = [input_ids[i:i + max_token_length] for i in range(0, len(input_ids), max_token_length)]\n",
        "    return chunks"
      ],
      "metadata": {
        "id": "Oq_1SZvAD3cy"
      },
      "execution_count": 10,
      "outputs": []
    },
    {
      "cell_type": "code",
      "source": [
        "chunks = chunk_text(script)"
      ],
      "metadata": {
        "id": "_w3JoqDzExxQ"
      },
      "execution_count": 11,
      "outputs": []
    },
    {
      "cell_type": "code",
      "source": [
        "summaries = []\n",
        "\n",
        "for chunk in chunks:\n",
        "    inputs = {'input_ids': chunk.unsqueeze(0)}\n",
        "    summary_ids = model.generate(inputs['input_ids'], max_length=150, min_length=40, length_penalty=2.0, num_beams=4, early_stopping=True)\n",
        "    summary = tokenizer.decode(summary_ids[0], skip_special_tokens=True)\n",
        "    summaries.append(summary)\n",
        "    print(\"id:\", summary_ids)\n",
        "    print(summary)\n",
        "\n",
        "final_summary = \" \".join(summaries)\n"
      ],
      "metadata": {
        "colab": {
          "base_uri": "https://localhost:8080/"
        },
        "id": "LhFxJd8MFI1p",
        "outputId": "b5580cee-f59f-4319-bffe-38f67e5583e2"
      },
      "execution_count": 15,
      "outputs": [
        {
          "output_type": "stream",
          "name": "stdout",
          "text": [
            "id: tensor([[    2,     0, 39531,  1409,   922,  2094,    40,   483,    10,   411,\n",
            "            12,  3583, 21412,    15,   155,   495, 12168,     4,   166,    40,\n",
            "          5393,     5,   130,  1049,  3505,     9,   155,   495, 19039,  6448,\n",
            "            35,   234,  2492,  3297,     6, 19324,     6,     8, 10415, 14601,\n",
            "         19039,     4,   166,    17,    27,   890,    67,  2268,   141,     7,\n",
            "          3886,   110,   414,    13, 12168,    30, 18624,     5,   155,   495,\n",
            "         24079,  9629,     4,     2]])\n",
            "Hanbyul Lee will lead a six-week seminar on 3D printing. We will explore the three main types of 3D modeling methods: NURBS, Solid, and Polygon modeling. We’ll also discuss how to prepare your data for printing by adjusting the 3D printer settings.\n",
            "id: tensor([[    2,     0,    17,    48,   100,    17,    27,   119,   269,   546,\n",
            "           556,     7,  1782,     5,  2770,  1377,    47,    17,    27,   890,\n",
            "          1045,    11,     5,  2568,   688,   328,   318,    47,    33,   143,\n",
            "          1142,    50,   240,  3485,     6,  2540,   218,    17,    27,    90,\n",
            "         21587,     7,  1338,    66,     4,  2780,    17,    27,    29,   146,\n",
            "             5,   144,     9,    42,  2239,   676,   561,     4,    17,    46,\n",
            "             2]])\n",
            "“I’m really looking forward to seeing the amazing projects you’ll create in the upcoming weeks! If you have any questions or need assistance, please don’t hesitate to reach out. Let’s make the most of this learning experience together.”\n"
          ]
        }
      ]
    },
    {
      "cell_type": "code",
      "source": [
        "print(\"summarized result:\")\n",
        "print(final_summary)"
      ],
      "metadata": {
        "colab": {
          "base_uri": "https://localhost:8080/"
        },
        "id": "DNcC3hK0FPdo",
        "outputId": "23ea7973-9a26-4f00-bb69-c77491cc3cf4"
      },
      "execution_count": 13,
      "outputs": [
        {
          "output_type": "stream",
          "name": "stdout",
          "text": [
            "summarized result:\n",
            "Hanbyul Lee will lead a six-week seminar on 3D printing. We will explore the three main types of 3D modeling methods: NURBS, Solid, and Polygon modeling. We’ll also discuss how to prepare your data for printing by adjusting the 3D printer settings. “I’m really looking forward to seeing the amazing projects you’ll create in the upcoming weeks! If you have any questions or need assistance, please don’t hesitate to reach out. Let’s make the most of this learning experience together.”\n"
          ]
        }
      ]
    },
    {
      "cell_type": "code",
      "source": [],
      "metadata": {
        "id": "tmGw7zmLFs9G"
      },
      "execution_count": null,
      "outputs": []
    }
  ]
}