{
  "nbformat": 4,
  "nbformat_minor": 0,
  "metadata": {
    "colab": {
      "provenance": [],
      "machine_shape": "hm",
      "gpuType": "L4"
    },
    "kernelspec": {
      "name": "python3",
      "display_name": "Python 3"
    },
    "language_info": {
      "name": "python"
    },
    "accelerator": "GPU"
  },
  "cells": [
    {
      "cell_type": "code",
      "execution_count": 12,
      "metadata": {
        "id": "chS8PdMKHd-w"
      },
      "outputs": [],
      "source": [
        "# !git clone https://github.com/seujung/KoBART-summarization.git"
      ]
    },
    {
      "cell_type": "code",
      "source": [
        "from transformers import PreTrainedTokenizerFast, BartForConditionalGeneration"
      ],
      "metadata": {
        "id": "_IBAhXx3HpDV"
      },
      "execution_count": 13,
      "outputs": []
    },
    {
      "cell_type": "code",
      "source": [
        "# Load Model and Tokenizer\n",
        "tokenizer = PreTrainedTokenizerFast.from_pretrained(\"EbanLee/kobart-summary-v3\")\n",
        "model = BartForConditionalGeneration.from_pretrained(\"EbanLee/kobart-summary-v3\")"
      ],
      "metadata": {
        "colab": {
          "base_uri": "https://localhost:8080/"
        },
        "id": "NtpMLUGrJwqH",
        "outputId": "bd9ccf65-4154-4937-f871-b36f88f788dd"
      },
      "execution_count": 14,
      "outputs": [
        {
          "output_type": "stream",
          "name": "stderr",
          "text": [
            "You passed along `num_labels=3` with an incompatible id to label map: {'0': 'NEGATIVE', '1': 'POSITIVE'}. The number of labels wil be overwritten to 2.\n"
          ]
        }
      ]
    },
    {
      "cell_type": "code",
      "source": [
        "# Encoding\n",
        "input_text = '''\n",
        "프로야구 LG 트윈스가 외국인 투수 교체를 위한 마지막 시도에 나선다. 차명석 단장이 미국으로 급히 출국했다.\n",
        "LG가 교체 승부수를 던진다면, 켈리와 엔스 중 누가 교체될까. 염경엽 감독은 17일 서울 잠실구장에서 SSG와 경기를 앞두고 외국인 선수 교체에 관해 언급했다. 이날 오전 차명석 단장이 미국으로 출국했다.\n",
        "염 감독은 \"우리가 갖고 있는 외국인 리스트에서 한 명이 나왔다고 해서 단장님이 급하게 미국으로 갔다\"고 말했다. 차 단장은 지난 5월말 한 차례 외국인 투수를 찾으러 미국을 다녀온 바 있다. 당시 켈리와 엔스가 동반 부진했고, 염 감독은 외국인 투수 한 명은 교체해달라고 프런트에 요청했다.\n",
        "5월말에는 LG가 원하는 1선발급 투수가 시장에 나오지 않았다. 관심을 갖고 있던 투수는 메이저리그 로스터에 묶여 있었고, 차 단장은 빈손으로 귀국했다. 당시 차 단장은 \"메이저리그 투수들이 부상을 많이 당해 괜찮은 투수를 찾기 어렵다. 고만고만한 선수는 있지만 1선발급 구위형 투수는 없다\"고 말했다.\n",
        "켈리와 엔스가 5월말부터 투구 내용이 좋아지면서, 외국인 투수 교체는 물밑으로 가라앉았다. 염 감독은 \"1선발 없이 시즌을 치른다\"고 아쉬워했고, 켈리와 엔스는 '퐁당퐁당' 피칭으로 어느 정도 제 몫을 했다.\n",
        "염 감독은 이날 \"1선발급 투수가 나왔다고 해서 갔다. 그 선수 딱 1명만 보러 갔다. 결정이 되든 안 되든 빨리 결과가 나올 것 같다\"고 말했다. 이어 \"켈리와 엔스랑 비슷하다고 하면 바꿀 이유가 없다. 1선발이 있는 것과 없는 것은 엄청난 차이다. 작년에 결국 우리가 1선발이 없으니까 힘들게 했다. 비자 발급 등 서류 절차에 시간이 걸리는 것을 고려하면 지금이 마지막 교체 기회다\"고 말했다. 단장이 직접 움직였다는 것은 어느 정도 결정 단계에 이르렀다.\n",
        "켈리는 올 시즌 19경기에 등판해 5승 8패 평균자책점 4.51을 기록하고 있다. 2019년부터 LG에서 뛴 켈리는 올해로 6년차, 가장 부진한 시즌을 보내고 있다.\n",
        "켈리는 지난 6월 25일 잠실 삼성전에서 8회까지 퍼펙트 피칭을 펼치며 9이닝 1피안타 완봉승을 거뒀다. 후반기 2차례 등판에서 5이닝 9피안타 5실점, 6이닝 8피안타 2실점(1자책)을 기록했다. 피안타율이 높은 편이다.\n",
        "엔스는 올 시즌 19경기에 등판, 8승 3패 평균자책점 4.30을 기록 중이다. 7월 들어 2경기에서 1패 평균자책점 2.70으로 안정감을 보여주고 있다. 지난 3일 키움전에서 6이닝 7피안타 9탈삼진 4실점으로 패전 투수가 됐지만 지난 10일 KIA전에서 7⅓이닝 2피안타 6탈삼진 무실점으로 호투했는데 불펜이 승리를 날렸다.\n",
        "'''\n",
        "inputs = tokenizer(input_text, return_tensors=\"pt\", padding=\"max_length\", truncation=True, max_length=1026)"
      ],
      "metadata": {
        "id": "B2LeR6l4J0J7"
      },
      "execution_count": 21,
      "outputs": []
    },
    {
      "cell_type": "code",
      "source": [
        "# Generate Summary Text Ids\n",
        "summary_text_ids = model.generate(\n",
        "input_ids=inputs['input_ids'],\n",
        "attention_mask=inputs['attention_mask'],\n",
        "bos_token_id=model.config.bos_token_id,\n",
        "eos_token_id=model.config.eos_token_id,\n",
        "length_penalty=1.0,\n",
        "max_length=300,\n",
        "min_length=12,\n",
        "num_beams=6,\n",
        "repetition_penalty=1.5,\n",
        "no_repeat_ngram_size=15,\n",
        ")"
      ],
      "metadata": {
        "id": "_zXmihEBJCH7"
      },
      "execution_count": 22,
      "outputs": []
    },
    {
      "cell_type": "code",
      "source": [
        "# Decoding Text Ids\n",
        "print(tokenizer.decode(summary_text_ids[0], skip_special_tokens=True))"
      ],
      "metadata": {
        "colab": {
          "base_uri": "https://localhost:8080/"
        },
        "id": "Hj65NGS7Jvrp",
        "outputId": "b572e73f-affd-46b8-889a-5554b4cd5996"
      },
      "execution_count": 23,
      "outputs": [
        {
          "output_type": "stream",
          "name": "stdout",
          "text": [
            "프로야구 LG 트윈스가 외국인 투수 교체를 위한 마지막 시도에 나선다. 염경엽 감독은 17일 서울 잠실구장에서 SSG와 경기를 앞두고 외국인 선수 교체에 관해 언급했다. 켈리와 엔스가 5월말부터 투구 내용이 좋아지면서, 외국인 투수 교체는 물밑으로 가라앉았다. 염 감독은 1선발 없이 시즌을 치른다고 아쉬워했고, 켈리와 엔스는 '퐁당퐁당' 피칭으로 어느 정도 제 몫을 했다. 켈리는 올 시즌 19경기에 등판, 8승 3패 평균자책점 4.30을 기록 중이다.\n"
          ]
        }
      ]
    },
    {
      "cell_type": "markdown",
      "source": [
        "#input text:\n",
        "'''\n",
        " Although a common set of hardware technologies is used\n",
        "in computers ranging from smart home appliances to cell phones to the largest\n",
        "supercomputers, these different applications have different design requirements\n",
        "and employ the core hardware technologies in different ways. Broadly speaking,\n",
        "computers are used in three different classes of applications.\n",
        " Personal computers (PCs) are possibly the best known form of computing,\n",
        "which readers of this book have likely used extensively. Personal computers\n",
        "emphasize delivery of good performance to single users at low cost and usually\n",
        "execute third-party software. This class of computing drove the evolution of many computing technologies, which is only about 35 years old!\n",
        " Servers are the modern form of what were once much larger computers, and\n",
        "are usually accessed only via a network. Servers are oriented to carrying large\n",
        "workloads, which may consist of either single complex applications—usually a\n",
        "scientific or engineering application—or handling many small jobs, such as would occur in building a large web server. These applications are usually based on software from another source (such as a database or simulation system), but are often modified or customized for a particular function. Servers are built from the same basic technology as desktop computers, but provide for greater computing, storage, and input/output capacity. In general, servers also place a greater emphasis on dependability, since a crash is usually more costly than it would be on a single user PC.\n",
        " Servers span the widest range in cost and capability. At the low end, a server\n",
        "may be little more than a desktop computer without a screen or keyboard and\n",
        "cost a thousand dollars. These low-end servers are typically used for file storage, small business applications, or simple web serving (see Section 6.10). At the other extreme are supercomputers, which at the present consist of tens of thousands of processors and many terabytes of memory, and cost tens to hundreds of millions of dollars. Supercomputers are usually used for high-end scientific and engineering calculations, such as weather forecasting, oil exploration, protein structure determination, and other large-scale problems. Although such supercomputers represent the peak of computing capability, they represent a relatively small fraction of the servers and a relatively small fraction of the overall computer market in terms of total revenue.\n",
        " Embedded computers are the largest class of computers and span the widest\n",
        "range of applications and performance. Embedded computers include the microprocessors found in your car, the computers in a television set, and the\n",
        "networks of processors that control a modern airplane or cargo ship. Embedded\n",
        "computing systems are designed to run one application or one set of related\n",
        "applications that are normally integrated with the hardware and delivered as a\n",
        "single system; thus, despite the large number of embedded computers, most users\n",
        "never really see that they are using a computer!\n",
        "'''\n",
        "\n",
        "#Summarized:\n",
        "Although a common set of hardware technologies in diff erent ways in diff erent ways. Broadly speaking, computers are possibly the best known form of computing, which readers of this book have likely used extensively. Personal computers, workloads, which may consist of either single applex applications, which is computing drove the evolution of many. computing technology is about 35 years old!\n",
        "\n",
        "#문제: 1026자 제한"
      ],
      "metadata": {
        "id": "vL-VI_wqgRP_"
      }
    },
    {
      "cell_type": "code",
      "source": [],
      "metadata": {
        "id": "nqOibAW6j6xp"
      },
      "execution_count": null,
      "outputs": []
    },
    {
      "cell_type": "markdown",
      "source": [
        "###Data1\n",
        "####input text\n",
        " Although a common set of hardware technologies is used in computers ranging from smart home appliances to cell phones to the largest supercomputers, these different applications have different design requirements\n",
        "and employ the core hardware technologies in different ways. Broadly speaking,\n",
        "computers are used in three different classes of applications.\n",
        " Personal computers (PCs) are possibly the best known form of computing,\n",
        "which readers of this book have likely used extensively. Personal computers\n",
        "emphasize delivery of good performance to single users at low cost and usually\n",
        "execute third-party software. This class of computing drove the evolution of many computing technologies, which is only about 35 years old!\n",
        "\n",
        "\n",
        "---\n",
        "\n",
        "####summarized\n",
        "Although a common set of hardware technologies is used in different ways. Broadly speaking, computers are used in three different classes of applications. Personal computers are possibly the best known form of computing, which is about 35 years old"
      ],
      "metadata": {
        "id": "03zEKR9einwa"
      }
    },
    {
      "cell_type": "code",
      "source": [],
      "metadata": {
        "id": "h2VZ8mCekKQR"
      },
      "execution_count": null,
      "outputs": []
    },
    {
      "cell_type": "markdown",
      "source": [
        "##Data2\n",
        "###input text (length: 812, runtime 11s)\n",
        "Servers are the modern form of what were once much larger computers, and are usually accessed only via a network. Servers are oriented to carrying large workloads, which may consist of either single complex applications—usually a scientific or engineering application—or handling many small jobs, such as would occur in building a large web server. These applications are usually based on software from another source (such as a database or simulation system), but are often modified or customized for a particular function. Servers are built from the same basic technology as desktop computers, but provide for greater computing, storage, and input/output capacity. In general, servers also place a greater emphasis on dependability, since a crash is usually more costly than it would be on a single user PC.\n",
        "\n",
        "---\n",
        "\n",
        "\n",
        "###summarized\n",
        "Servers are the modern form of what were once much larger computers, and are usually accessed only via a network. Servers are oriented to carrying large workloads, which may consist of either single complex applications—usually a scientific or engineering application—or handling many small jobs, such as would occur in building a large web server. These applications are usually based on software from another source, but are often modified or customized for a particular function."
      ],
      "metadata": {
        "id": "i6rgooH4koTt"
      }
    },
    {
      "cell_type": "code",
      "source": [],
      "metadata": {
        "id": "3Ctwyp2Kkn02"
      },
      "execution_count": null,
      "outputs": []
    },
    {
      "cell_type": "markdown",
      "source": [
        "##Data3\n",
        "### input text (1292 chars, runtime: 4s)\n",
        "프로야구 LG 트윈스가 외국인 투수 교체를 위한 마지막 시도에 나선다. 차명석 단장이 미국으로 급히 출국했다.\n",
        "LG가 교체 승부수를 던진다면, 켈리와 엔스 중 누가 교체될까. 염경엽 감독은 17일 서울 잠실구장에서 SSG와 경기를 앞두고 외국인 선수 교체에 관해 언급했다. 이날 오전 차명석 단장이 미국으로 출국했다.\n",
        "염 감독은 \"우리가 갖고 있는 외국인 리스트에서 한 명이 나왔다고 해서 단장님이 급하게 미국으로 갔다\"고 말했다. 차 단장은 지난 5월말 한 차례 외국인 투수를 찾으러 미국을 다녀온 바 있다. 당시 켈리와 엔스가 동반 부진했고, 염 감독은 외국인 투수 한 명은 교체해달라고 프런트에 요청했다.\n",
        "5월말에는 LG가 원하는 1선발급 투수가 시장에 나오지 않았다. 관심을 갖고 있던 투수는 메이저리그 로스터에 묶여 있었고, 차 단장은 빈손으로 귀국했다. 당시 차 단장은 \"메이저리그 투수들이 부상을 많이 당해 괜찮은 투수를 찾기 어렵다. 고만고만한 선수는 있지만 1선발급 구위형 투수는 없다\"고 말했다.\n",
        "켈리와 엔스가 5월말부터 투구 내용이 좋아지면서, 외국인 투수 교체는 물밑으로 가라앉았다. 염 감독은 \"1선발 없이 시즌을 치른다\"고 아쉬워했고, 켈리와 엔스는 '퐁당퐁당' 피칭으로 어느 정도 제 몫을 했다.\n",
        "염 감독은 이날 \"1선발급 투수가 나왔다고 해서 갔다. 그 선수 딱 1명만 보러 갔다. 결정이 되든 안 되든 빨리 결과가 나올 것 같다\"고 말했다. 이어 \"켈리와 엔스랑 비슷하다고 하면 바꿀 이유가 없다. 1선발이 있는 것과 없는 것은 엄청난 차이다. 작년에 결국 우리가 1선발이 없으니까 힘들게 했다. 비자 발급 등 서류 절차에 시간이 걸리는 것을 고려하면 지금이 마지막 교체 기회다\"고 말했다. 단장이 직접 움직였다는 것은 어느 정도 결정 단계에 이르렀다.\n",
        "켈리는 올 시즌 19경기에 등판해 5승 8패 평균자책점 4.51을 기록하고 있다. 2019년부터 LG에서 뛴 켈리는 올해로 6년차, 가장 부진한 시즌을 보내고 있다.\n",
        "켈리는 지난 6월 25일 잠실 삼성전에서 8회까지 퍼펙트 피칭을 펼치며 9이닝 1피안타 완봉승을 거뒀다. 후반기 2차례 등판에서 5이닝 9피안타 5실점, 6이닝 8피안타 2실점(1자책)을 기록했다. 피안타율이 높은 편이다.\n",
        "엔스는 올 시즌 19경기에 등판, 8승 3패 평균자책점 4.30을 기록 중이다. 7월 들어 2경기에서 1패 평균자책점 2.70으로 안정감을 보여주고 있다. 지난 3일 키움전에서 6이닝 7피안타 9탈삼진 4실점으로 패전 투수가 됐지만 지난 10일 KIA전에서 7⅓이닝 2피안타 6탈삼진 무실점으로 호투했는데 불펜이 승리를 날렸다.\n",
        "### summarized\n",
        "프로야구 LG 트윈스가 외국인 투수 교체를 위한 마지막 시도에 나선다. 염경엽 감독은 17일 서울 잠실구장에서 SSG와 경기를 앞두고 외국인 선수 교체에 관해 언급했다. 켈리와 엔스가 5월말부터 투구 내용이 좋아지면서, 외국인 투수 교체는 물밑으로 가라앉았다. 염 감독은 1선발 없이 시즌을 치른다고 아쉬워했고, 켈리와 엔스는 '퐁당퐁당' 피칭으로 어느 정도 제 몫을 했다. 켈리는 올 시즌 19경기에 등판, 8승 3패 평균자책점 4.30을 기록 중이다."
      ],
      "metadata": {
        "id": "aW0qAzGOtqbP"
      }
    }
  ]
}