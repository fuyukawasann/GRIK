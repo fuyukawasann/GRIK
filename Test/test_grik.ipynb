{
 "cells": [
  {
   "cell_type": "markdown",
   "metadata": {},
   "source": [
    "# GRIK Test"
   ]
  },
  {
   "cell_type": "markdown",
   "metadata": {},
   "source": [
    "## 1. Import 부분"
   ]
  },
  {
   "cell_type": "code",
   "execution_count": 2,
   "metadata": {},
   "outputs": [],
   "source": [
    "import sys\n",
    "import subprocess\n",
    "\n",
    "# try:\n",
    "#     # 없는 모듈 import시 에러 발생\n",
    "#     import pandas\n",
    "# except:\n",
    "#     # pip 모듈 업그레이드\n",
    "#     subprocess.check_call([sys.executable,'-m', 'pip', 'install', '--upgrade', 'pip'])\n",
    "#     # 에러 발생한 모듈 설치\n",
    "#     subprocess.check_call([sys.executable,'-m', 'pip', 'install', '--upgrade', 'pandas'])\n",
    "#     # 다시 import\n",
    "#     import pandas"
   ]
  },
  {
   "cell_type": "code",
   "execution_count": 1,
   "metadata": {},
   "outputs": [
    {
     "ename": "ModuleNotFoundError",
     "evalue": "No module named 'cv2'",
     "output_type": "error",
     "traceback": [
      "\u001b[0;31m---------------------------------------------------------------------------\u001b[0m",
      "\u001b[0;31mModuleNotFoundError\u001b[0m                       Traceback (most recent call last)",
      "Cell \u001b[0;32mIn[1], line 1\u001b[0m\n\u001b[0;32m----> 1\u001b[0m \u001b[38;5;28;01mimport\u001b[39;00m \u001b[38;5;21;01mcv2\u001b[39;00m\n\u001b[1;32m      2\u001b[0m \u001b[38;5;28;01mimport\u001b[39;00m \u001b[38;5;21;01mos\u001b[39;00m\n\u001b[1;32m      3\u001b[0m \u001b[38;5;28;01mfrom\u001b[39;00m \u001b[38;5;21;01mPIL\u001b[39;00m \u001b[38;5;28;01mimport\u001b[39;00m Image\n",
      "\u001b[0;31mModuleNotFoundError\u001b[0m: No module named 'cv2'"
     ]
    }
   ],
   "source": [
    "import os\n",
    "from PIL import Image\n",
    "from datetime import datetime\n",
    "import shutil\n",
    "\n",
    "try:\n",
    "\timport cv2\n",
    "except:\n",
    "    # pip 모듈 업그레이드\n",
    "    subprocess.check_call([sys.executable,'-m', 'pip', 'install', '--upgrade', 'pip'])\n",
    "    # 에러 발생한 모듈 설치\n",
    "    subprocess.check_call([sys.executable,'-m', 'pip', 'install', '--upgrade', 'opencv-python'])\n",
    "    import cv2\n",
    "\n",
    "try:\n",
    "    from skimage.metrics import structural_similarity as ssim\n",
    "except:\n",
    "    # 에러 발생한 모듈 설치\n",
    "    subprocess.check_call([sys.executable,'-m', 'pip', 'install', '--upgrade', 'scikit-image'])\n",
    "    from skimage.metrics import structural_similarity as ssim\n",
    "    from skimage import io\n",
    "\n",
    "try:\n",
    "    import imutils\n",
    "except:\n",
    "    # 에러 발생한 모듈 설치\n",
    "    subprocess.check_call([sys.executable,'-m', 'pip', 'install', '--upgrade', 'imutils'])\n",
    "    import imutils\n",
    "\n",
    "try:\n",
    "    import argparse\n",
    "except:\n",
    "    subprocess.check_call([sys.executable,'-m', 'pip', 'install', '--upgrade', 'argparse'])\n",
    "    import argparse\n"
   ]
  },
  {
   "cell_type": "markdown",
   "metadata": {},
   "source": [
    "## 2. 비디오 인식"
   ]
  },
  {
   "cell_type": "code",
   "execution_count": null,
   "metadata": {},
   "outputs": [],
   "source": [
    "## 비디오 경로\n",
    "video_Path = input(\"비디오 경로를 입력해주세요: \")\n",
    "\n",
    "## opencv 비디오 인식\n",
    "video = cv2.VideoCapture(video_Path)\n",
    "\n",
    "## 비디오가 없을 때\n",
    "if not video.isOpened():\n",
    "    print(\"Cannot open the vieo : \", video_Path)\n",
    "    exit(0)"
   ]
  },
  {
   "cell_type": "code",
   "execution_count": null,
   "metadata": {},
   "outputs": [],
   "source": [
    "## 비디오 정보\n",
    "length = int(video.get(cv2.CAP_PROP_FRAME_COUNT))\n",
    "width = int(video.get(cv2.CAP_PROP_FRAME_WIDTH))\n",
    "height = int(video.get(cv2.CAP_PROP_FRAME_HEIGHT))\n",
    "fps = round(video.get(cv2.CAP_PROP_FPS))\n",
    "\n",
    "## 디렉토리 생성\n",
    "save_NAME = input(\"저장할 이름을 입력해주세요: \")\n",
    "save_DIR = \"./result/\" + save_NAME\n",
    "try:\n",
    "    if not os.path.exists(save_DIR):\n",
    "        os.makedirs(save_DIR)\n",
    "except OSError:\n",
    "    print(\"Error: Cannot Find SAVE_PATH\", save_DIR)\n",
    "\n",
    "\n"
   ]
  },
  {
   "cell_type": "markdown",
   "metadata": {},
   "source": [
    "## 3. 비디오 처리"
   ]
  },
  {
   "cell_type": "code",
   "execution_count": null,
   "metadata": {},
   "outputs": [],
   "source": [
    "## Define Frame Counter\n",
    "frameCounter = 0\n",
    "\n",
    "## Video Pre-processing\n",
    "while(video.isOpened()):\n",
    "    ret, image = video.read()\n",
    "    if (int(video.get(1)) % fps == 0):\n",
    "        cv2.imwrite(save_DIR + \"/frame%d.jpg\" % frameCounter, image)\n",
    "        print(\"Saved Frame Number: \", str(int(video.get(1))))\n",
    "        frameCounter += 1\n",
    "    if int(video.get(1)) == length:\n",
    "        break\n",
    "\n",
    "video.release()\n",
    "\n",
    "## Remove Video\n",
    "os.remove(video_Path)\n",
    "print(\"Eliminate Video!!\")\n"
   ]
  },
  {
   "cell_type": "markdown",
   "metadata": {},
   "source": [
    "## 4. 중복된 사진 삭제"
   ]
  },
  {
   "cell_type": "code",
   "execution_count": null,
   "metadata": {},
   "outputs": [],
   "source": [
    "## Take Parse\n",
    "ap = argparse.ArgumentParser()\n",
    "filenum = len(os.listdir(save_DIR))\n",
    "\n",
    "## 기능 구현\n",
    "for i in range(filenum - 1):\n",
    "    Primary = save_DIR + \"/frame\" + str(i) + \".jpg\"\n",
    "    Secondary = save_DIR + \"/frame\" + str(i + 1) + \".jpg\"\n",
    "    \n",
    "    args = vars(ap.parse_args())\n",
    "    \n",
    "    ## Load Image\n",
    "    imageA = cv2.imread(Primary)\n",
    "    imageB = cv2.imread(Secondary)\n",
    "    \n",
    "    ## Filtered Gray Scale\n",
    "    grayA = cv2.cvtColor(imageA, cv2.COLOR_BGR2GRAY)\n",
    "    grayB = cv2.cvtColor(imageB, cv2.COLOR_BGR2GRAY)\n",
    "    \n",
    "    ## Saving Score\n",
    "    (score, diff) = ssim(grayA, grayB, full=True)\n",
    "    diff = (diff * 225).astype(\"uint8\")\n",
    "    \n",
    "    ## If Score is larger than 0.87, then delete Primary\n",
    "    if score >= 0.87:\n",
    "        os.remove(Primary)"
   ]
  },
  {
   "cell_type": "markdown",
   "metadata": {},
   "source": [
    "## 5. PDF 변환"
   ]
  },
  {
   "cell_type": "code",
   "execution_count": null,
   "metadata": {},
   "outputs": [],
   "source": [
    "print(\"=== PDF Generator ===\")\n",
    "\n",
    "file_list = os.listdir(save_DIR)\n",
    "\n",
    "img_list = []\n",
    "img_path = save_DIR + \"/\" + file_list[0]\n",
    "im_buf = Image.open(img_path)\n",
    "cvt_rgb_0 = im_buf.convert('RGB')\n",
    "for i in file_list:\n",
    "    img_path = save_DIR + \"/\" + i\n",
    "    im_buf = Image.open(img_path)\n",
    "    cvt_rgb = im_buf.convert('RGB')\n",
    "    img_list.append(cvt_rgb)\n",
    "\n",
    "del img_list[0]\n",
    "\n",
    "savefilepath = \"./result/pdf\" + save_NAME\n",
    "try:\n",
    "    if not os.path.exists(savefilepath):\n",
    "        os.makedirs(savefilepath)\n",
    "except OSError:\n",
    "    print(\"Error: Cannot Find Select Directory: \" + savefilepath)\n",
    "\n",
    "cvt_rgb_0.save(savefilepath + '/' + save_NAME + '.pdf', save_all=True, append_images=img_list)\n"
   ]
  },
  {
   "cell_type": "markdown",
   "metadata": {},
   "source": [
    "## 6. 사진 파일 삭제"
   ]
  },
  {
   "cell_type": "code",
   "execution_count": null,
   "metadata": {},
   "outputs": [],
   "source": [
    "shutil.rmtree(save_DIR, ignore_errors=True)\n",
    "print(\"사진 제거\")\n",
    "print(\"강의 요약 완료\")"
   ]
  }
 ],
 "metadata": {
  "kernelspec": {
   "display_name": "Python 3",
   "language": "python",
   "name": "python3"
  },
  "language_info": {
   "codemirror_mode": {
    "name": "ipython",
    "version": 3
   },
   "file_extension": ".py",
   "mimetype": "text/x-python",
   "name": "python",
   "nbconvert_exporter": "python",
   "pygments_lexer": "ipython3",
   "version": "3.11.9"
  }
 },
 "nbformat": 4,
 "nbformat_minor": 2
}
