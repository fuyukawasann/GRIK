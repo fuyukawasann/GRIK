{
 "cells": [
  {
   "cell_type": "markdown",
   "metadata": {},
   "source": [
    "# GRIK\n",
    "동영상 강의 요약 프로젝트!!"
   ]
  },
  {
   "cell_type": "markdown",
   "metadata": {},
   "source": [
    "## 라이브러리 가져오기"
   ]
  },
  {
   "cell_type": "code",
   "execution_count": 4,
   "metadata": {},
   "outputs": [
    {
     "ename": "ModuleNotFoundError",
     "evalue": "No module named 'imagehash'",
     "output_type": "error",
     "traceback": [
      "\u001b[0;31m---------------------------------------------------------------------------\u001b[0m",
      "\u001b[0;31mModuleNotFoundError\u001b[0m                       Traceback (most recent call last)",
      "Cell \u001b[0;32mIn[4], line 9\u001b[0m\n\u001b[1;32m      6\u001b[0m \u001b[38;5;28;01mimport\u001b[39;00m \u001b[38;5;21;01msys\u001b[39;00m\n\u001b[1;32m      7\u001b[0m \u001b[38;5;28;01mimport\u001b[39;00m \u001b[38;5;21;01mshutil\u001b[39;00m\n\u001b[0;32m----> 9\u001b[0m \u001b[38;5;28;01mfrom\u001b[39;00m \u001b[38;5;21;01mUtils\u001b[39;00m\u001b[38;5;21;01m.\u001b[39;00m\u001b[38;5;21;01mImagehash\u001b[39;00m \u001b[38;5;28;01mimport\u001b[39;00m Imagehash \u001b[38;5;28;01mas\u001b[39;00m ih\n\u001b[1;32m     10\u001b[0m \u001b[38;5;28;01mfrom\u001b[39;00m \u001b[38;5;21;01mUtils\u001b[39;00m\u001b[38;5;21;01m.\u001b[39;00m\u001b[38;5;21;01mextract\u001b[39;00m \u001b[38;5;28;01mimport\u001b[39;00m extractor \u001b[38;5;28;01mas\u001b[39;00m etr\n\u001b[1;32m     11\u001b[0m \u001b[38;5;28;01mfrom\u001b[39;00m \u001b[38;5;21;01mUtils\u001b[39;00m\u001b[38;5;21;01m.\u001b[39;00m\u001b[38;5;21;01mdetection_trt\u001b[39;00m \u001b[38;5;28;01mimport\u001b[39;00m detection_ps_trt \u001b[38;5;28;01mas\u001b[39;00m dtrt\n",
      "File \u001b[0;32m~/Desktop/GRIK/Project/GRIK/Test/Colab/Utils/Imagehash.py:20\u001b[0m\n\u001b[1;32m     18\u001b[0m \u001b[38;5;28;01mimport\u001b[39;00m \u001b[38;5;21;01mtime\u001b[39;00m\n\u001b[1;32m     19\u001b[0m \u001b[38;5;28;01mimport\u001b[39;00m \u001b[38;5;21;01mcv2\u001b[39;00m\n\u001b[0;32m---> 20\u001b[0m \u001b[38;5;28;01mimport\u001b[39;00m \u001b[38;5;21;01mimagehash\u001b[39;00m\n\u001b[1;32m     22\u001b[0m \u001b[38;5;28;01mclass\u001b[39;00m \u001b[38;5;21;01mImagehash\u001b[39;00m:\n\u001b[1;32m     23\u001b[0m     \u001b[38;5;28;01mdef\u001b[39;00m \u001b[38;5;21m__init__\u001b[39m(\u001b[38;5;28mself\u001b[39m, video_path, res_name):\n\u001b[1;32m     24\u001b[0m         \u001b[38;5;66;03m# important!! -> input must be the path of the video file\u001b[39;00m\n",
      "\u001b[0;31mModuleNotFoundError\u001b[0m: No module named 'imagehash'"
     ]
    }
   ],
   "source": [
    "import torch\n",
    "import os\n",
    "from datetime import datetime\n",
    "import time\n",
    "import platform\n",
    "import sys\n",
    "import shutil\n",
    "\n",
    "from Utils.Imagehash import Imagehash as ih\n",
    "from Utils.extract import extractor as etr\n",
    "from Utils.detection_trt import detection_ps_trt as dtrt\n",
    "from Utils.makePDF import makePDF as mpdf"
   ]
  },
  {
   "cell_type": "markdown",
   "metadata": {},
   "source": [
    "## Main"
   ]
  },
  {
   "cell_type": "markdown",
   "metadata": {},
   "source": [
    "### Step 0. Get Saved Name"
   ]
  },
  {
   "cell_type": "code",
   "execution_count": null,
   "metadata": {},
   "outputs": [],
   "source": [
    "print(\"Get the name of the result...\")\n",
    "time.sleep(1)\n",
    "res_name = input(\"Enter the name of the result: \")\n",
    "### Add the current time to the name\n",
    "res_name = f'{res_name}_{datetime.now().strftime(\"%Y%m%d%H%M%S\")}'\n",
    "### Inform the user about the name\n",
    "print(f'The name of the result(Include datetime!!): {res_name}')\n",
    "print(\"Get the name of the result... SUCCESS\")\n",
    "time.sleep(1) # wait for 1 seconds"
   ]
  },
  {
   "cell_type": "markdown",
   "metadata": {},
   "source": [
    "### Step 0.5. Download Videos"
   ]
  },
  {
   "cell_type": "code",
   "execution_count": null,
   "metadata": {},
   "outputs": [],
   "source": [
    "print(\"Download video and move to correct directory...\")\n",
    "time.sleep(1)\n",
    "### Download at GRIK/build/200000\n",
    "# 15WrOYg9Klmt90WYPce5qsXKug4QwgfDC -> DEMO\n",
    "# 1lb49qaM--C__1XthD2hO5PpXeLrC5Im5 -> DEMO2\n",
    "# 1u4JiTebHVWAIEw_nL-mjsuwW9kBsL_uh -> DEMO3\n",
    "os.system('gdown https://drive.google.com/uc?id=1u4JiTebHVWAIEw_nL-mjsuwW9kBsL_uh')\n",
    "### Make Directory\n",
    "video_path = f'Result/{res_name}/Video'\n",
    "if not os.path.exists(video_path):\n",
    "\tos.makedirs(video_path)\n",
    "video_path = f'{video_path}/DEMO.mp4'\n",
    "### Move video\n",
    "shutil.move('DEMO3.mp4', video_path)\n",
    "print(\"Donwload video and move to correct directory... SUCCESS\")\n",
    "time.sleep(1)"
   ]
  },
  {
   "cell_type": "markdown",
   "metadata": {},
   "source": [
    "### Step 1. ImageHash"
   ]
  },
  {
   "cell_type": "code",
   "execution_count": null,
   "metadata": {},
   "outputs": [],
   "source": [
    "print(\"Imagehash Part...\")\n",
    "time.sleep(1)\n",
    "#### Input the path of the video file\n",
    "print(\"Current Directory: \", os.getcwd())\n",
    "imhs_obj = ih(video_path, res_name)\n",
    "save_img_path, imhs_eval_time = imhs_obj.imagehash_calculation()\n",
    "print(f'Saved Image Path: {save_img_path}')\n",
    "print('Imagehash Part... SUCCESS')\n",
    "time.sleep(1)"
   ]
  },
  {
   "cell_type": "markdown",
   "metadata": {},
   "source": [
    "### Step 2. Object Detection"
   ]
  },
  {
   "cell_type": "code",
   "execution_count": null,
   "metadata": {},
   "outputs": [],
   "source": [
    "### Inform the user\n",
    "print(\"Object Detection Part...\")\n",
    "time.sleep(1) # wait for 1 seconds\n",
    "### Object detection module!!\n",
    "print(\"Test detection module!!\")\n",
    "time.sleep(1) # wait for 1 seconds\n",
    "print(f'Current Directory: {os.getcwd()}')\n",
    "detection_obj = dtrt(save_img_path, res_name) # After, you need to change 'Images' -> Real Image directory\n",
    "ob_result_path, ob_eval_time = detection_obj.detection_panseo_trt()\n",
    "print(f'Result path: {ob_result_path}')\n",
    "print(\"Object Detection Part... SUCCESS\")\n",
    "time.sleep(1) # wait for 1 seconds"
   ]
  },
  {
   "cell_type": "markdown",
   "metadata": {},
   "source": [
    "### Step 3. Delete Background"
   ]
  },
  {
   "cell_type": "code",
   "execution_count": null,
   "metadata": {},
   "outputs": [],
   "source": [
    " ### Inform the user\n",
    "print(\"Delete Background Part...\")\n",
    "time.sleep(1) # wait for 1 seconds\n",
    "# ### Get the path of the images\n",
    "# print(f'Current Directory: {os.getcwd()}')\n",
    "# print(f'Element in the current directory: {os.listdir('Compare')}')\n",
    "# original_img_path = input(\"Enter the path of the original image: \")\n",
    "# handwritten_img_path = input(\"Enter the path of the handwritten image: \")\n",
    "### Check the path of the images and if not exit.\n",
    "# print(f'Current Directory: {os.getcwd()}')\n",
    "# extract_folder = f'Result/{res_name}/Extracted' # BBOX Extracted module would make this directory\n",
    "if not os.path.exists(ob_result_path):\n",
    "\tprint(\"There's no extracted folder!! Please check the path!!\")\n",
    "\tsys.exit()\n",
    "### Delete the background\n",
    "etr_obj = etr(ob_result_path, res_name)\n",
    "etr_result_path, etr_eval_time = etr_obj.extract_handwritten() # Result is the path of the saved image\n",
    "print(\"Delete Background Part... SUCCESS\")\n",
    "time.sleep(1) # wait for 1 seconds"
   ]
  },
  {
   "cell_type": "markdown",
   "metadata": {},
   "source": [
    "### Step 4. Make PDF"
   ]
  },
  {
   "cell_type": "code",
   "execution_count": null,
   "metadata": {},
   "outputs": [],
   "source": [
    "### Inform the user\n",
    "print(\"Make PDF File Part...\")\n",
    "time.sleep(1)\n",
    "### Make PDF\n",
    "mpdf_obj = mpdf(save_img_path, etr_result_path, res_name)\n",
    "mpdf_eval_time = mpdf_obj.make_pdf()\n",
    "print(\"Make PDF File Part... SUCCESS\")"
   ]
  },
  {
   "cell_type": "markdown",
   "metadata": {},
   "source": [
    "### Step 5. Print Out the Running Time"
   ]
  },
  {
   "cell_type": "code",
   "execution_count": null,
   "metadata": {},
   "outputs": [],
   "source": [
    "print(\"Print Out the Running Time...\")\n",
    "print(\"=====================================\")\n",
    "time.sleep(1) # wait for 1 seconds\n",
    "### SSIM\n",
    "print(f'SSIM Running Time: {imhs_eval_time} seconds')\n",
    "### Object Detection\n",
    "print(f'Object Detection Running Time: {ob_eval_time} seconds')\n",
    "### Delete Background\n",
    "print(f'Delete Background Running Time: {etr_eval_time} seconds')\n",
    "### Make PDF File\n",
    "print(f'Make PDF File Running Time: {mpdf_eval_time} seconds')\n",
    "### Print Out the Total Running Time\n",
    "total_time = imhs_eval_time + ob_eval_time + etr_eval_time + mpdf_eval_time\n",
    "print(f'Total Running Time: {total_time} seconds')\n",
    "print(\"=====================================\")\n",
    "print(\"Print Out the Running Time... SUCCESS\")\n",
    "time.sleep(1) # wait for 1 seconds"
   ]
  },
  {
   "cell_type": "markdown",
   "metadata": {},
   "source": [
    "### Step 6. Delete YOLOv7 (When SSIM-CPU Used)"
   ]
  },
  {
   "cell_type": "code",
   "execution_count": null,
   "metadata": {},
   "outputs": [],
   "source": [
    "### Inform the user\n",
    "print(\"Delete YOLOv7 repository...\")\n",
    "time.sleep(1) # wait for 1 seconds\n",
    "### Delete the repository\n",
    "my_plat = platform.system()\n",
    "if not torch.cuda.is_available():\n",
    "\tif my_plat == 'Windows':\n",
    "\t\tos.system('rmdir /s yolov7')\n",
    "\telse:\n",
    "\t\tos.system('rm -rf yolov7')\n",
    "\t### Finish\n",
    "\tprint(\"Delete YOLOv7 repository... SUCCESS\")\n",
    "else:\n",
    "\tprint(\"Don't need to delete YOLOv7 repository... Don't Exist\")\n",
    "\tprint(\"Delete YOLOv7 repository.. PASS\")\n",
    "time.sleep(1) # wait for 1 seconds"
   ]
  },
  {
   "cell_type": "markdown",
   "metadata": {},
   "source": [
    "### Step 7. Delete Video "
   ]
  },
  {
   "cell_type": "code",
   "execution_count": null,
   "metadata": {},
   "outputs": [],
   "source": [
    "print(\"Delete Video...\")\n",
    "time.sleep(1)\n",
    "if my_plat == 'Windows':\n",
    "\tos.system(f'rmdir /s Result/{res_name}/Video')\n",
    "else:\n",
    "\tos.system(f'rm -rf Result/{res_name}/Video')\n",
    "print(\"Delete Video... SUCCESS\")\n",
    "time.sleep(1)"
   ]
  },
  {
   "cell_type": "markdown",
   "metadata": {},
   "source": [
    "## EOF"
   ]
  },
  {
   "cell_type": "code",
   "execution_count": null,
   "metadata": {},
   "outputs": [],
   "source": [
    "## EOF\n",
    "print(\"End of the file!!\")"
   ]
  }
 ],
 "metadata": {
  "kernelspec": {
   "display_name": "Python 3",
   "language": "python",
   "name": "python3"
  },
  "language_info": {
   "codemirror_mode": {
    "name": "ipython",
    "version": 3
   },
   "file_extension": ".py",
   "mimetype": "text/x-python",
   "name": "python",
   "nbconvert_exporter": "python",
   "pygments_lexer": "ipython3",
   "version": "3.11.9"
  }
 },
 "nbformat": 4,
 "nbformat_minor": 2
}
