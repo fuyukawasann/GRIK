{
 "cells": [
  {
   "cell_type": "code",
   "execution_count": 6,
   "id": "8cb5ffcf-ef2f-4cbc-a684-94ef05ac32e6",
   "metadata": {},
   "outputs": [],
   "source": [
    "import tensorrt as trt\n",
    "import numpy as np\n",
    "import cv2\n",
    "import pycuda.driver as cuda\n",
    "import pycuda.autoinit"
   ]
  },
  {
   "cell_type": "markdown",
   "id": "c34b6230-4d1f-4c20-b2da-9d3921478e91",
   "metadata": {},
   "source": [
    "## Load TRT"
   ]
  },
  {
   "cell_type": "code",
   "execution_count": 3,
   "id": "c97f999b-6e35-451f-9f02-747a0caa079c",
   "metadata": {},
   "outputs": [],
   "source": [
    "## Load TRT model\n",
    "\n",
    "logger = trt.Logger(trt.Logger.WARNING)\n",
    "runtime = trt.Runtime(logger)\n",
    "trt.init_libnvinfer_plugins(None, \"\")\n",
    "with open('../Weights/best_tiny_400_16.trt', 'rb') as f:\n",
    "    engine = runtime.deserialize_cuda_engine(f.read())\n",
    "\n",
    "context = engine.create_execution_context()\n",
    "assert engine\n",
    "assert context"
   ]
  },
  {
   "cell_type": "markdown",
   "id": "d8594bdf-2ef8-4c57-9efa-8c3971a9f25c",
   "metadata": {},
   "source": [
    "## Setup I/O binding"
   ]
  },
  {
   "cell_type": "code",
   "execution_count": 7,
   "id": "b4f46e7d-730e-44f4-b50a-cb3afdef01b9",
   "metadata": {},
   "outputs": [],
   "source": [
    "inputs, outputs, allocations = [], [], []\n",
    "\n",
    "for i in range(engine.num_bindings): # input, output 개수 만큼\n",
    "    is_input = False\n",
    "    if engine.binding_is_input(i):\n",
    "        is_input = True\n",
    "    name = engine.get_binding_name(i)\n",
    "    dtype = np.dtype(trt.nptype(engine.get_binding_dtype(i)))\n",
    "    shape = context.get_binding_shape(i)\n",
    "    \n",
    "    if is_input and shape[0] < 0:\n",
    "        assert engine.num_optimization_profiles > 0\n",
    "        profile_shape = engine.get_profile_shape(0, name)\n",
    "        assert len(profile_shape) == 3\n",
    "        self.context.set_binding_shape(i, profile_shape[2])\n",
    "        shape = context.get_binding_shape(i)\n",
    "    \n",
    "    if is_input:\n",
    "        batch_size = shape[0]\n",
    "    \n",
    "    size = dtype.itemsize\n",
    "    for s in shape:\n",
    "        size *= s\n",
    "        \n",
    "    allocation = cuda.mem_alloc(size)\n",
    "    host_allocation = None if is_input else np.zeros(shape, dtype)\n",
    "    binding = {\n",
    "        \"index\": i,\n",
    "        \"name\": name,\n",
    "        \"dtype\": dtype,\n",
    "        \"shape\": list(shape),\n",
    "        \"allocation\": allocation,\n",
    "        \"host_allocation\": host_allocation,\n",
    "    }\n",
    "    allocations.append(allocation)\n",
    "    if engine.binding_is_input(i):\n",
    "        inputs.append(binding)\n",
    "    else:\n",
    "        outputs.append(binding)"
   ]
  },
  {
   "cell_type": "markdown",
   "id": "97f64de5-f53f-49f0-9634-04804fb8ee24",
   "metadata": {},
   "source": [
    "## Preprocess the image"
   ]
  },
  {
   "cell_type": "code",
   "execution_count": 12,
   "id": "15adebbb-3f96-478f-bdce-ae243d08bd14",
   "metadata": {},
   "outputs": [],
   "source": [
    "original_image = cv2.imread('../test05.jpg')\n",
    "ori_h, ori_w, ori_c = original_image.shape"
   ]
  },
  {
   "cell_type": "code",
   "execution_count": 15,
   "id": "0469c619-0b31-4c0a-91d8-c913a01affff",
   "metadata": {},
   "outputs": [],
   "source": [
    "input_size = [inputs[0]['shape'], inputs[0]['dtype']][0][-2:]\n"
   ]
  },
  {
   "cell_type": "code",
   "execution_count": 17,
   "id": "608c30c6-3a23-4b03-9ec0-392d7d7cd630",
   "metadata": {},
   "outputs": [],
   "source": [
    "image = cv2.cvtColor(original_image, cv2.COLOR_BGR2RGB)\n",
    "\n",
    "## Calculate width and height and paddings\n",
    "r_w = input_size[1] / ori_w\n",
    "r_h = input_size[0] / ori_h\n",
    "if r_h > r_w:\n",
    "    tw = input_size[1]\n",
    "    th = int(r_w * ori_h)\n",
    "    tx1 = tx2 = 0\n",
    "    ty1 = int((input_size[0] - th) / 2)\n",
    "    ty2 = input_size[0] - th - ty1\n",
    "else:\n",
    "    tw = int(r_h * origin_w)\n",
    "    th = input_size[0]\n",
    "    tx1 = int((input_size[1] - tw) / 2)\n",
    "    tx2 = input_size[i] - tw - tx1\n",
    "    ty1 = ty2 = 0"
   ]
  },
  {
   "cell_type": "code",
   "execution_count": 19,
   "id": "c995c577-39b4-4b69-ba5a-722de3db6e14",
   "metadata": {},
   "outputs": [],
   "source": [
    "## Resize the image with long side while maintaining ratio\n",
    "image = cv2.resize(image, (tw, th))\n",
    "image = cv2.copyMakeBorder(\n",
    "    image, ty1, ty2, tx1, tx2, cv2.BORDER_CONSTANT, (128, 128, 128)\n",
    ")\n",
    "image = image.astype(np.float32)"
   ]
  },
  {
   "cell_type": "code",
   "execution_count": 20,
   "id": "d22f3c83-d848-4785-8a55-1cda8eb040d2",
   "metadata": {},
   "outputs": [],
   "source": [
    "## Normalizee to [0, 1]\n",
    "image /= 255.0\n",
    "## CHW to NCHW format\n",
    "image = np.expand_dims(image, axis=0)\n",
    "## Convert the imag to row-major order, also know as \"C order\":\n",
    "preprocessed_image = np.ascontiguousarray(image)"
   ]
  },
  {
   "cell_type": "markdown",
   "id": "ee95f9cb-58f3-4fdc-b3db-93d9e4c94cd4",
   "metadata": {},
   "source": [
    "## Inference TRT Model"
   ]
  },
  {
   "cell_type": "code",
   "execution_count": 26,
   "id": "38063cf2-5f73-4d7d-9428-bfb058985203",
   "metadata": {},
   "outputs": [],
   "source": [
    "this_image = preprocessed_image.transpose(0, 3, 1, 2)\n",
    "this_image = np.ascontiguousarray(this_image)\n",
    "cuda.memcpy_htod(inputs[0]['allocation'], this_image)\n",
    "context.execute_v2(allocations)\n",
    "\n",
    "for o in range(len(outputs)):\n",
    "    cuda.memcpy_dtoh(outputs[o]['host_allocation'], outputs[o]['allocation'])\n",
    "    \n",
    "num_detections = outputs[0]['host_allocation']\n",
    "nmsed_boxes = outputs[1]['host_allocation']\n",
    "nmsed_scores = outputs[2]['host_allocation']\n",
    "nmsed_classes = outputs[3]['host_allocation']\n",
    "result = [num_detections, nmsed_boxes, nmsed_scores, nmsed_classes]"
   ]
  },
  {
   "cell_type": "code",
   "execution_count": 25,
   "id": "0e0a8c34-008c-448a-9aad-37902262e0c6",
   "metadata": {},
   "outputs": [
    {
     "name": "stdout",
     "output_type": "stream",
     "text": [
      "[array([[0]], dtype=int32), array([[[0., 0., 0., 0.],\n",
      "        [0., 0., 0., 0.],\n",
      "        [0., 0., 0., 0.],\n",
      "        [0., 0., 0., 0.],\n",
      "        [0., 0., 0., 0.],\n",
      "        [0., 0., 0., 0.],\n",
      "        [0., 0., 0., 0.],\n",
      "        [0., 0., 0., 0.],\n",
      "        [0., 0., 0., 0.],\n",
      "        [0., 0., 0., 0.],\n",
      "        [0., 0., 0., 0.],\n",
      "        [0., 0., 0., 0.],\n",
      "        [0., 0., 0., 0.],\n",
      "        [0., 0., 0., 0.],\n",
      "        [0., 0., 0., 0.],\n",
      "        [0., 0., 0., 0.],\n",
      "        [0., 0., 0., 0.],\n",
      "        [0., 0., 0., 0.],\n",
      "        [0., 0., 0., 0.],\n",
      "        [0., 0., 0., 0.],\n",
      "        [0., 0., 0., 0.],\n",
      "        [0., 0., 0., 0.],\n",
      "        [0., 0., 0., 0.],\n",
      "        [0., 0., 0., 0.],\n",
      "        [0., 0., 0., 0.],\n",
      "        [0., 0., 0., 0.],\n",
      "        [0., 0., 0., 0.],\n",
      "        [0., 0., 0., 0.],\n",
      "        [0., 0., 0., 0.],\n",
      "        [0., 0., 0., 0.],\n",
      "        [0., 0., 0., 0.],\n",
      "        [0., 0., 0., 0.],\n",
      "        [0., 0., 0., 0.],\n",
      "        [0., 0., 0., 0.],\n",
      "        [0., 0., 0., 0.],\n",
      "        [0., 0., 0., 0.],\n",
      "        [0., 0., 0., 0.],\n",
      "        [0., 0., 0., 0.],\n",
      "        [0., 0., 0., 0.],\n",
      "        [0., 0., 0., 0.],\n",
      "        [0., 0., 0., 0.],\n",
      "        [0., 0., 0., 0.],\n",
      "        [0., 0., 0., 0.],\n",
      "        [0., 0., 0., 0.],\n",
      "        [0., 0., 0., 0.],\n",
      "        [0., 0., 0., 0.],\n",
      "        [0., 0., 0., 0.],\n",
      "        [0., 0., 0., 0.],\n",
      "        [0., 0., 0., 0.],\n",
      "        [0., 0., 0., 0.],\n",
      "        [0., 0., 0., 0.],\n",
      "        [0., 0., 0., 0.],\n",
      "        [0., 0., 0., 0.],\n",
      "        [0., 0., 0., 0.],\n",
      "        [0., 0., 0., 0.],\n",
      "        [0., 0., 0., 0.],\n",
      "        [0., 0., 0., 0.],\n",
      "        [0., 0., 0., 0.],\n",
      "        [0., 0., 0., 0.],\n",
      "        [0., 0., 0., 0.],\n",
      "        [0., 0., 0., 0.],\n",
      "        [0., 0., 0., 0.],\n",
      "        [0., 0., 0., 0.],\n",
      "        [0., 0., 0., 0.],\n",
      "        [0., 0., 0., 0.],\n",
      "        [0., 0., 0., 0.],\n",
      "        [0., 0., 0., 0.],\n",
      "        [0., 0., 0., 0.],\n",
      "        [0., 0., 0., 0.],\n",
      "        [0., 0., 0., 0.],\n",
      "        [0., 0., 0., 0.],\n",
      "        [0., 0., 0., 0.],\n",
      "        [0., 0., 0., 0.],\n",
      "        [0., 0., 0., 0.],\n",
      "        [0., 0., 0., 0.],\n",
      "        [0., 0., 0., 0.],\n",
      "        [0., 0., 0., 0.],\n",
      "        [0., 0., 0., 0.],\n",
      "        [0., 0., 0., 0.],\n",
      "        [0., 0., 0., 0.],\n",
      "        [0., 0., 0., 0.],\n",
      "        [0., 0., 0., 0.],\n",
      "        [0., 0., 0., 0.],\n",
      "        [0., 0., 0., 0.],\n",
      "        [0., 0., 0., 0.],\n",
      "        [0., 0., 0., 0.],\n",
      "        [0., 0., 0., 0.],\n",
      "        [0., 0., 0., 0.],\n",
      "        [0., 0., 0., 0.],\n",
      "        [0., 0., 0., 0.],\n",
      "        [0., 0., 0., 0.],\n",
      "        [0., 0., 0., 0.],\n",
      "        [0., 0., 0., 0.],\n",
      "        [0., 0., 0., 0.],\n",
      "        [0., 0., 0., 0.],\n",
      "        [0., 0., 0., 0.],\n",
      "        [0., 0., 0., 0.],\n",
      "        [0., 0., 0., 0.],\n",
      "        [0., 0., 0., 0.],\n",
      "        [0., 0., 0., 0.]]], dtype=float32), array([[0., 0., 0., 0., 0., 0., 0., 0., 0., 0., 0., 0., 0., 0., 0., 0.,\n",
      "        0., 0., 0., 0., 0., 0., 0., 0., 0., 0., 0., 0., 0., 0., 0., 0.,\n",
      "        0., 0., 0., 0., 0., 0., 0., 0., 0., 0., 0., 0., 0., 0., 0., 0.,\n",
      "        0., 0., 0., 0., 0., 0., 0., 0., 0., 0., 0., 0., 0., 0., 0., 0.,\n",
      "        0., 0., 0., 0., 0., 0., 0., 0., 0., 0., 0., 0., 0., 0., 0., 0.,\n",
      "        0., 0., 0., 0., 0., 0., 0., 0., 0., 0., 0., 0., 0., 0., 0., 0.,\n",
      "        0., 0., 0., 0.]], dtype=float32), array([[0, 0, 0, 0, 0, 0, 0, 0, 0, 0, 0, 0, 0, 0, 0, 0, 0, 0, 0, 0, 0, 0,\n",
      "        0, 0, 0, 0, 0, 0, 0, 0, 0, 0, 0, 0, 0, 0, 0, 0, 0, 0, 0, 0, 0, 0,\n",
      "        0, 0, 0, 0, 0, 0, 0, 0, 0, 0, 0, 0, 0, 0, 0, 0, 0, 0, 0, 0, 0, 0,\n",
      "        0, 0, 0, 0, 0, 0, 0, 0, 0, 0, 0, 0, 0, 0, 0, 0, 0, 0, 0, 0, 0, 0,\n",
      "        0, 0, 0, 0, 0, 0, 0, 0, 0, 0, 0, 0]], dtype=int32)]\n"
     ]
    }
   ],
   "source": [
    "print(result)"
   ]
  },
  {
   "cell_type": "code",
   "execution_count": null,
   "id": "8f007dbd-bc6d-4011-927e-1a873fc6f936",
   "metadata": {},
   "outputs": [],
   "source": []
  }
 ],
 "metadata": {
  "kernelspec": {
   "display_name": "IAP",
   "language": "python",
   "name": "iap"
  },
  "language_info": {
   "codemirror_mode": {
    "name": "ipython",
    "version": 3
   },
   "file_extension": ".py",
   "mimetype": "text/x-python",
   "name": "python",
   "nbconvert_exporter": "python",
   "pygments_lexer": "ipython3",
   "version": "3.6.9"
  }
 },
 "nbformat": 4,
 "nbformat_minor": 5
}
