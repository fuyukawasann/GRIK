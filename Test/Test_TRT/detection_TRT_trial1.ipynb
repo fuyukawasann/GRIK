{
 "cells": [
  {
   "cell_type": "code",
   "execution_count": 36,
   "id": "64c1ac72-b32d-4d15-be09-21970f3cda0a",
   "metadata": {},
   "outputs": [],
   "source": [
    "## TEST TRT\n",
    "import cv2\n",
    "import torch\n",
    "import random\n",
    "import time\n",
    "import numpy as np\n",
    "import tensorrt as trt"
   ]
  },
  {
   "cell_type": "code",
   "execution_count": 37,
   "id": "5a854cc9-18fd-4670-8040-b4aa11fe9ba5",
   "metadata": {},
   "outputs": [],
   "source": [
    "import pycuda.driver as cuda\n",
    "import pycuda.autoinit"
   ]
  },
  {
   "cell_type": "code",
   "execution_count": 76,
   "id": "e8dc13e8-d937-4b46-bbe3-b6f31721e4ea",
   "metadata": {},
   "outputs": [],
   "source": [
    "trt_path = '../Weights/best_tiny_400_16.trt'\n",
    "logger = trt.Logger(trt.Logger.WARNING)\n",
    "runtime = trt.Runtime(logger)\n",
    "trt.init_libnvinfer_plugins(logger, \"\")\n",
    "\n",
    "with open(trt_path, 'rb') as f:\n",
    "    engine_data = f.read()\n",
    "\n",
    "engine = runtime.deserialize_cuda_engine(engine_data)"
   ]
  },
  {
   "cell_type": "code",
   "execution_count": 77,
   "id": "c9229543-2a87-400b-b767-ca627d0585f1",
   "metadata": {},
   "outputs": [],
   "source": [
    "inputs, outputs, bindings, stream = [], [], [], cuda.Stream()\n",
    "for binding in engine:\n",
    "    size = trt.volume(engine.get_binding_shape(binding)) * engine.max_batch_size\n",
    "    dtype = trt.nptype(engine.get_binding_dtype(binding))\n",
    "    host_mem = cuda.pagelocked_empty(size, dtype)\n",
    "    device_mem = cuda.mem_alloc(host_mem.nbytes)\n",
    "    bindings.append(int(device_mem))\n",
    "    if engine.binding_is_input(binding):\n",
    "        inputs.append({'host': host_mem, 'device': device_mem})\n",
    "    else:\n",
    "        outputs.append({'host': host_mem, 'device': device_mem})"
   ]
  },
  {
   "cell_type": "code",
   "execution_count": 78,
   "id": "5c16095b-9e3e-40dd-8820-78e58501e835",
   "metadata": {},
   "outputs": [],
   "source": [
    "## 입력 이미지 전처리\n",
    "img = cv2.imread('../test05.jpg')\n",
    "input_image = cv2.resize(img, (640, 640))\n",
    "input_image = cv2.cvtColor(input_image, cv2.COLOR_BGR2RGB)\n",
    "input_image = np.transpose(input_image, (2,0,1)).astype(np.float32)/255.0\n",
    "# input_image = np.ascontiguousarray(input_image.transpose(2, 0, 1))\n",
    "# input_image = input_image.astype(np.float32) / 255.0"
   ]
  },
  {
   "cell_type": "code",
   "execution_count": 79,
   "id": "b59ee223-8210-441b-9fea-ea88873ef646",
   "metadata": {},
   "outputs": [
    {
     "data": {
      "text/plain": [
       "True"
      ]
     },
     "execution_count": 79,
     "metadata": {},
     "output_type": "execute_result"
    }
   ],
   "source": [
    "# Copy input data and inference\n",
    "np.copyto(inputs[0]['host'], input_image.ravel())\n",
    "cuda.memcpy_htod(inputs[0]['device'], inputs[0]['host'])\n",
    "context = engine.create_execution_context()\n",
    "context.execute_v2(bindings = bindings)"
   ]
  },
  {
   "cell_type": "code",
   "execution_count": 80,
   "id": "be9fcf63-878c-4826-9e84-d311f54f599e",
   "metadata": {},
   "outputs": [],
   "source": [
    "cuda.memcpy_dtoh(outputs[0]['host'], inputs[0]['device'])"
   ]
  },
  {
   "cell_type": "code",
   "execution_count": 81,
   "id": "14ab6e47-4ffe-444f-bf2d-71a752739506",
   "metadata": {},
   "outputs": [
    {
     "name": "stdout",
     "output_type": "stream",
     "text": [
      "[{'host': array([998277249], dtype=int32), 'device': <pycuda._driver.DeviceAllocation object at 0x7f288885d0>}, {'host': array([0., 0., 0., 0., 0., 0., 0., 0., 0., 0., 0., 0., 0., 0., 0., 0., 0.,\n",
      "       0., 0., 0., 0., 0., 0., 0., 0., 0., 0., 0., 0., 0., 0., 0., 0., 0.,\n",
      "       0., 0., 0., 0., 0., 0., 0., 0., 0., 0., 0., 0., 0., 0., 0., 0., 0.,\n",
      "       0., 0., 0., 0., 0., 0., 0., 0., 0., 0., 0., 0., 0., 0., 0., 0., 0.,\n",
      "       0., 0., 0., 0., 0., 0., 0., 0., 0., 0., 0., 0., 0., 0., 0., 0., 0.,\n",
      "       0., 0., 0., 0., 0., 0., 0., 0., 0., 0., 0., 0., 0., 0., 0., 0., 0.,\n",
      "       0., 0., 0., 0., 0., 0., 0., 0., 0., 0., 0., 0., 0., 0., 0., 0., 0.,\n",
      "       0., 0., 0., 0., 0., 0., 0., 0., 0., 0., 0., 0., 0., 0., 0., 0., 0.,\n",
      "       0., 0., 0., 0., 0., 0., 0., 0., 0., 0., 0., 0., 0., 0., 0., 0., 0.,\n",
      "       0., 0., 0., 0., 0., 0., 0., 0., 0., 0., 0., 0., 0., 0., 0., 0., 0.,\n",
      "       0., 0., 0., 0., 0., 0., 0., 0., 0., 0., 0., 0., 0., 0., 0., 0., 0.,\n",
      "       0., 0., 0., 0., 0., 0., 0., 0., 0., 0., 0., 0., 0., 0., 0., 0., 0.,\n",
      "       0., 0., 0., 0., 0., 0., 0., 0., 0., 0., 0., 0., 0., 0., 0., 0., 0.,\n",
      "       0., 0., 0., 0., 0., 0., 0., 0., 0., 0., 0., 0., 0., 0., 0., 0., 0.,\n",
      "       0., 0., 0., 0., 0., 0., 0., 0., 0., 0., 0., 0., 0., 0., 0., 0., 0.,\n",
      "       0., 0., 0., 0., 0., 0., 0., 0., 0., 0., 0., 0., 0., 0., 0., 0., 0.,\n",
      "       0., 0., 0., 0., 0., 0., 0., 0., 0., 0., 0., 0., 0., 0., 0., 0., 0.,\n",
      "       0., 0., 0., 0., 0., 0., 0., 0., 0., 0., 0., 0., 0., 0., 0., 0., 0.,\n",
      "       0., 0., 0., 0., 0., 0., 0., 0., 0., 0., 0., 0., 0., 0., 0., 0., 0.,\n",
      "       0., 0., 0., 0., 0., 0., 0., 0., 0., 0., 0., 0., 0., 0., 0., 0., 0.,\n",
      "       0., 0., 0., 0., 0., 0., 0., 0., 0., 0., 0., 0., 0., 0., 0., 0., 0.,\n",
      "       0., 0., 0., 0., 0., 0., 0., 0., 0., 0., 0., 0., 0., 0., 0., 0., 0.,\n",
      "       0., 0., 0., 0., 0., 0., 0., 0., 0., 0., 0., 0., 0., 0., 0., 0., 0.,\n",
      "       0., 0., 0., 0., 0., 0., 0., 0., 0.], dtype=float32), 'device': <pycuda._driver.DeviceAllocation object at 0x7f288a1120>}, {'host': array([0., 0., 0., 0., 0., 0., 0., 0., 0., 0., 0., 0., 0., 0., 0., 0., 0.,\n",
      "       0., 0., 0., 0., 0., 0., 0., 0., 0., 0., 0., 0., 0., 0., 0., 0., 0.,\n",
      "       0., 0., 0., 0., 0., 0., 0., 0., 0., 0., 0., 0., 0., 0., 0., 0., 0.,\n",
      "       0., 0., 0., 0., 0., 0., 0., 0., 0., 0., 0., 0., 0., 0., 0., 0., 0.,\n",
      "       0., 0., 0., 0., 0., 0., 0., 0., 0., 0., 0., 0., 0., 0., 0., 0., 0.,\n",
      "       0., 0., 0., 0., 0., 0., 0., 0., 0., 0., 0., 0., 0., 0., 0.],\n",
      "      dtype=float32), 'device': <pycuda._driver.DeviceAllocation object at 0x7f288a1260>}, {'host': array([0, 0, 0, 0, 0, 0, 0, 0, 0, 0, 0, 0, 0, 0, 0, 0, 0, 0, 0, 0, 0, 0,\n",
      "       0, 0, 0, 0, 0, 0, 0, 0, 0, 0, 0, 0, 0, 0, 0, 0, 0, 0, 0, 0, 0, 0,\n",
      "       0, 0, 0, 0, 0, 0, 0, 0, 0, 0, 0, 0, 0, 0, 0, 0, 0, 0, 0, 0, 0, 0,\n",
      "       0, 0, 0, 0, 0, 0, 0, 0, 0, 0, 0, 0, 0, 0, 0, 0, 0, 0, 0, 0, 0, 0,\n",
      "       0, 0, 0, 0, 0, 0, 0, 0, 0, 0, 0, 0], dtype=int32), 'device': <pycuda._driver.DeviceAllocation object at 0x7f288a1350>}]\n"
     ]
    }
   ],
   "source": [
    "print(outputs)"
   ]
  },
  {
   "cell_type": "code",
   "execution_count": 82,
   "id": "f7faf614-927b-483f-9d40-ce71311dc9f3",
   "metadata": {},
   "outputs": [],
   "source": [
    "# Copy Output data and inference\n",
    "output_data = []\n",
    "for output in outputs:\n",
    "    output_data.append(output['host'].reshape(-1))\n",
    "\n",
    "output_num_detections = output_data[0]\n",
    "output_boxes = output_data[1].reshape(-1, 4)\n",
    "output_scores = output_data[2]\n",
    "output_classes = output_data[3]"
   ]
  },
  {
   "cell_type": "code",
   "execution_count": 83,
   "id": "fefbfc10-e6a0-4131-9a50-5596b3914b10",
   "metadata": {},
   "outputs": [
    {
     "name": "stdout",
     "output_type": "stream",
     "text": [
      "[998277249]\n"
     ]
    }
   ],
   "source": [
    "print(output_num_detections)"
   ]
  },
  {
   "cell_type": "code",
   "execution_count": 85,
   "id": "cb12c789-2008-403e-8251-d68dffdb4cd5",
   "metadata": {},
   "outputs": [
    {
     "ename": "error",
     "evalue": "OpenCV(4.7.0) /tmp/pip-install-n_no6scd/opencv-python_73eb20d920614b098d4fd6ad93ce85ca/opencv/modules/core/src/array.cpp:2494: error: (-206:Bad flag (parameter or structure field)) Unrecognized or unsupported array type in function 'cvGetMat'\n",
     "output_type": "error",
     "traceback": [
      "\u001b[0;31m---------------------------------------------------------------------------\u001b[0m",
      "\u001b[0;31merror\u001b[0m                                     Traceback (most recent call last)",
      "\u001b[0;32m<ipython-input-85-f95988e40e6a>\u001b[0m in \u001b[0;36m<module>\u001b[0;34m\u001b[0m\n\u001b[1;32m      7\u001b[0m \u001b[0;34m\u001b[0m\u001b[0m\n\u001b[1;32m      8\u001b[0m \u001b[0;34m\u001b[0m\u001b[0m\n\u001b[0;32m----> 9\u001b[0;31m \u001b[0mcv2\u001b[0m\u001b[0;34m.\u001b[0m\u001b[0mimshow\u001b[0m\u001b[0;34m(\u001b[0m\u001b[0;34m'YOLOv7-tiny trt'\u001b[0m\u001b[0;34m,\u001b[0m \u001b[0minput_image\u001b[0m\u001b[0;34m)\u001b[0m\u001b[0;34m\u001b[0m\u001b[0;34m\u001b[0m\u001b[0m\n\u001b[0m\u001b[1;32m     10\u001b[0m \u001b[0mcv2\u001b[0m\u001b[0;34m.\u001b[0m\u001b[0mwaitKey\u001b[0m\u001b[0;34m(\u001b[0m\u001b[0;36m0\u001b[0m\u001b[0;34m)\u001b[0m\u001b[0;34m\u001b[0m\u001b[0;34m\u001b[0m\u001b[0m\n\u001b[1;32m     11\u001b[0m \u001b[0mcv2\u001b[0m\u001b[0;34m.\u001b[0m\u001b[0mdestroyAllWindows\u001b[0m\u001b[0;34m(\u001b[0m\u001b[0;34m)\u001b[0m\u001b[0;34m\u001b[0m\u001b[0;34m\u001b[0m\u001b[0m\n",
      "\u001b[0;31merror\u001b[0m: OpenCV(4.7.0) /tmp/pip-install-n_no6scd/opencv-python_73eb20d920614b098d4fd6ad93ce85ca/opencv/modules/core/src/array.cpp:2494: error: (-206:Bad flag (parameter or structure field)) Unrecognized or unsupported array type in function 'cvGetMat'\n"
     ]
    }
   ],
   "source": [
    "# RESULTS\n",
    "for box, score, class_id in zip(output_boxes, output_scores, output_classes):\n",
    "    if score > 0.5:\n",
    "        x1, y1, x2, y2 = [int(v) for v in box]\n",
    "        cv2.rectangle(input_image, (x1, y1), (x2, y2), (0, 255, 0), 2)\n",
    "        cv2.putText(input_image, f'{class_id}: {score:.2f}', (x1, y1-10), cv2.FONT_HERSHEY_SIMPLEX, 0.5, (36, 255, 12, 2))\n",
    "\n",
    "\n",
    "cv2.imshow('YOLOv7-tiny trt', input_image)\n",
    "cv2.waitKey(0)\n",
    "cv2.destroyAllWindows()"
   ]
  },
  {
   "cell_type": "code",
   "execution_count": null,
   "id": "a0bf0784-618b-4107-a8e5-c7c2e4f5ac52",
   "metadata": {},
   "outputs": [],
   "source": []
  }
 ],
 "metadata": {
  "kernelspec": {
   "display_name": "IAP",
   "language": "python",
   "name": "iap"
  },
  "language_info": {
   "codemirror_mode": {
    "name": "ipython",
    "version": 3
   },
   "file_extension": ".py",
   "mimetype": "text/x-python",
   "name": "python",
   "nbconvert_exporter": "python",
   "pygments_lexer": "ipython3",
   "version": "3.6.9"
  }
 },
 "nbformat": 4,
 "nbformat_minor": 5
}
